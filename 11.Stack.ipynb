{
 "cells": [
  {
   "cell_type": "markdown",
   "metadata": {},
   "source": [
    "# 栈\n",
    "\n",
    "\n",
    "\n",
    "#### 1. Str \n",
    "-  [LeetCode](https://leetcode.cn/problems/valid-parentheses/)  [| 20. 有效的括号](#20) \n",
    "\n",
    "#### 2. List \n",
    "\n",
    "#### 3. Linked \n",
    "\n",
    "#### 4. Tree \n",
    "\n",
    "#### 5. Graph \n",
    "\n",
    "#### 6. Num\n"
   ]
  },
  {
   "cell_type": "markdown",
   "metadata": {},
   "source": [
    "### 20. <span id = \"20\">有效的括号<span>\n",
    "\n",
    "右括号不会加入到栈中，因此不需要判断stack.pop()在不在字典中\n",
    "\n",
    "防止stack为空，可以加入初始元素'?'\n",
    "\n",
    "最后还要判断stack是否长度为1，如果不是说明有多余的左括号"
   ]
  },
  {
   "cell_type": "code",
   "execution_count": null,
   "metadata": {},
   "outputs": [],
   "source": [
    "class Solution:\n",
    "    def isValid(self, s: str) -> bool:\n",
    "        table = {\n",
    "            '(': ')',\n",
    "            '[': ']',\n",
    "            '{': '}',\n",
    "            '?': '?'\n",
    "        }\n",
    "        stack = ['?']\n",
    "        for ch in s:\n",
    "            if ch in table:\n",
    "                stack.append(ch)\n",
    "            else:\n",
    "                if table[stack.pop()] != ch:\n",
    "                    return False\n",
    "        return len(stack) == 1"
   ]
  }
 ],
 "metadata": {
  "kernelspec": {
   "display_name": "Python 3.9.6 64-bit",
   "language": "python",
   "name": "python3"
  },
  "language_info": {
   "name": "python",
   "version": "3.9.6"
  },
  "orig_nbformat": 4,
  "vscode": {
   "interpreter": {
    "hash": "1aec40e0cc8dcd72ae861723d928da7f867ad57df585952e683e938264a3f0b6"
   }
  }
 },
 "nbformat": 4,
 "nbformat_minor": 2
}
