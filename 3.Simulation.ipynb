{
 "cells": [
  {
   "cell_type": "markdown",
   "metadata": {},
   "source": [
    "# 模拟方法\n",
    "\n",
    "\n",
    "\n",
    "#### 1. Str \n",
    "-  [LeetCode](https://leetcode.cn/problems/zigzag-conversion/)  [| 6. Z 字形变换](#6) \n",
    "\n",
    "#### 2. List \n",
    "\n",
    "#### 3. Linked \n",
    "-  [LeetCode](https://leetcode.cn/problems/add-two-numbers/)  [| 2. 两数相加](#2) \n",
    "\n",
    "#### 4. Tree \n",
    "\n",
    "#### 5. Graph \n",
    "\n",
    "#### 6. Num\n",
    "-  [LeetCode](https://leetcode.cn/problems/integer-to-roman/)  [| 12. 整数转罗马数字](#12) \n",
    "-  [LeetCode](https://leetcode.cn/problems/roman-to-integer/)  [| 13. 罗马数字转整数](#13) "
   ]
  },
  {
   "cell_type": "markdown",
   "metadata": {},
   "source": [
    "### 2. <span id = \"2\">两数相加<span>\n",
    "\n",
    "用链表形式存储数字，并模拟加法操作\n"
   ]
  },
  {
   "cell_type": "code",
   "execution_count": null,
   "metadata": {},
   "outputs": [],
   "source": [
    "class Solution:\n",
    "    def addTwoNumbers(self, l1: Optional[ListNode], l2: Optional[ListNode]) -> Optional[ListNode]:\n",
    "        carry = 0\n",
    "        dummy = curr = ListNode()\n",
    "        while l1 or l2 or carry:\n",
    "            a = b = 0\n",
    "            if l1: a, l1 = l1.val, l1.next\n",
    "            if l2: b, l2 = l2.val, l2.next\n",
    "            carry, num = divmod(a + b + carry, 10)\n",
    "            curr.next = ListNode(num)\n",
    "            curr = curr.next\n",
    "        return dummy.next"
   ]
  },
  {
   "cell_type": "markdown",
   "metadata": {},
   "source": [
    "### 6. <span id = \"6\">Z 字形变换<span>\n",
    "\n",
    "把字符串转成横着的z字形，也就是翻转后的N字形"
   ]
  },
  {
   "cell_type": "code",
   "execution_count": null,
   "metadata": {},
   "outputs": [],
   "source": [
    "class Solution:\n",
    "    def convert(self, s: str, numRows: int) -> str:\n",
    "        bags = ['' for _ in range(numRows)]\n",
    "\n",
    "        curr, down = 0, False\n",
    "        for i in range(len(s)):\n",
    "            bags[curr] += s[i]\n",
    "\n",
    "            if curr == numRows - 1 or curr == 0:\n",
    "                down = ~down\n",
    "\n",
    "\n",
    "            if down:\n",
    "                curr += 1\n",
    "            else:\n",
    "                curr -= 1\n",
    "\n",
    "        return ''.join(bags)\n",
    "\n"
   ]
  },
  {
   "cell_type": "markdown",
   "metadata": {},
   "source": [
    "### 12. <span id = \"12\">整数转罗马数字<span>"
   ]
  },
  {
   "cell_type": "code",
   "execution_count": null,
   "metadata": {},
   "outputs": [],
   "source": [
    "class Solution:\n",
    "    def intToRoman(self, num: int) -> str:\n",
    "        table = [\n",
    "            ['M',  1000],\n",
    "            ['CM', 900],\n",
    "            ['D',  500],\n",
    "            ['CD', 400],\n",
    "            ['C',  100],\n",
    "            ['XC',  90],\n",
    "            ['L',  50],\n",
    "            ['XL',  40],\n",
    "            ['X',  10],\n",
    "            ['IX',  9],\n",
    "            ['V',  5],\n",
    "            ['IV',  4],\n",
    "            ['I',  1],\n",
    "        ]\n",
    "\n",
    "        result = []\n",
    "        for label, c in table:\n",
    "            x, num = divmod(num, c)\n",
    "            if x:\n",
    "                result.append(label*x)\n",
    "\n",
    "        return ''.join(result)\n",
    "\n"
   ]
  },
  {
   "cell_type": "markdown",
   "metadata": {},
   "source": [
    "### 13. <span id = \"13\">罗马数字转整数<span>\n",
    "\n",
    "如果i的值小于i+1，则减去i的值"
   ]
  },
  {
   "cell_type": "code",
   "execution_count": null,
   "metadata": {},
   "outputs": [],
   "source": [
    "class Solution:\n",
    "    def romanToInt(self, s: str) -> int:\n",
    "        table = {\n",
    "            'M': 1000,\n",
    "            'D': 500,\n",
    "            'C': 100,\n",
    "            'L': 50,\n",
    "            'X': 10,\n",
    "            'V': 5,\n",
    "            'I': 1}\n",
    "        \n",
    "        ans = 0\n",
    "        for i in range(len(s)):\n",
    "            if i != (len(s) - 1) and table[s[i]] < table[s[i + 1]]:\n",
    "                ans -= table[s[i]]\n",
    "            else:\n",
    "                ans += table[s[i]]\n",
    "        return ans\n"
   ]
  }
 ],
 "metadata": {
  "kernelspec": {
   "display_name": "Python 3.9.6 64-bit",
   "language": "python",
   "name": "python3"
  },
  "language_info": {
   "name": "python",
   "version": "3.9.6"
  },
  "orig_nbformat": 4,
  "vscode": {
   "interpreter": {
    "hash": "1aec40e0cc8dcd72ae861723d928da7f867ad57df585952e683e938264a3f0b6"
   }
  }
 },
 "nbformat": 4,
 "nbformat_minor": 2
}
