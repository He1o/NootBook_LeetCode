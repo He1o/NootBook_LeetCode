{
 "cells": [
  {
   "cell_type": "markdown",
   "metadata": {},
   "source": [
    "# 哈希表方法\n",
    "\n",
    "#### 1. Str \n",
    "\n",
    "-  [LeetCode](https://leetcode.cn/problems/longest-substring-without-repeating-characters/)  [| 3. 无重复字符的最长子串](#3) \n",
    "\n",
    "#### 2. List \n",
    "\n",
    "-  [LeetCode](https://leetcode.cn/problems/two-sum/)  [| 1. 两数之和](#1) \n",
    "\n",
    "#### 3. Linked \n",
    "\n",
    "#### 4. Tree \n",
    "\n",
    "#### 5. Graph \n"
   ]
  },
  {
   "cell_type": "markdown",
   "metadata": {},
   "source": [
    "### 1. <span id = \"1\">两数之和<span>\n",
    "\n",
    "给定一个目标值，判断数组中是否有两个数之和是该值，不能重复使用。\n",
    "\n",
    "1. 先判断差值是否存在，然后再在哈希表中插入当前值就可以防止重复与替换\n",
    "2. 看到一年前的代码还不会用 enumerate --！\n",
    "\n"
   ]
  },
  {
   "cell_type": "code",
   "execution_count": null,
   "metadata": {},
   "outputs": [],
   "source": [
    "class Solution:\n",
    "    def twoSum(self, nums: List[int], target: int) -> List[int]:\n",
    "        hashmap = {}\n",
    "        for i, n in enumerate(nums):\n",
    "            if target - n in hashmap:\n",
    "                return [i, hashmap[target - n]]\n",
    "            hashmap[n] = i\n",
    "        return []"
   ]
  },
  {
   "cell_type": "markdown",
   "metadata": {},
   "source": [
    "### 3. <span id = \"3\">无重复字符的最长子串<span>\n",
    "\n",
    "给定一个字符串，找出其中不含有重复字符的最长子串的长度。\n",
    "\n",
    "1. 双指针+哈希表\n",
    "2. 右指针一直右移，左指针指在不重复子串开始的位置\n",
    "3. 左指针更新的时候与重复位置比较大小取大值，其实就是分重复位置在左指针之前还是之后。（重要）"
   ]
  },
  {
   "cell_type": "code",
   "execution_count": null,
   "metadata": {},
   "outputs": [],
   "source": [
    "class Solution:\n",
    "    def lengthOfLongestSubstring(self, s: str) -> int:\n",
    "        hashmap = {}\n",
    "        result = j = 0\n",
    "        for i, ch in enumerate(s):\n",
    "            if ch in hashmap:\n",
    "                j = max(j, hashmap[ch] + 1)\n",
    "            result = max(result, i - j + 1)\n",
    "            hashmap[ch] = i\n",
    "        return result"
   ]
  }
 ],
 "metadata": {
  "kernelspec": {
   "display_name": "Python 3.9.6 64-bit",
   "language": "python",
   "name": "python3"
  },
  "language_info": {
   "codemirror_mode": {
    "name": "ipython",
    "version": 3
   },
   "file_extension": ".py",
   "mimetype": "text/x-python",
   "name": "python",
   "nbconvert_exporter": "python",
   "pygments_lexer": "ipython3",
   "version": "3.9.6"
  },
  "orig_nbformat": 4,
  "vscode": {
   "interpreter": {
    "hash": "1aec40e0cc8dcd72ae861723d928da7f867ad57df585952e683e938264a3f0b6"
   }
  }
 },
 "nbformat": 4,
 "nbformat_minor": 2
}
