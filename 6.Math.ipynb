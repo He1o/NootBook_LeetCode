{
 "cells": [
  {
   "cell_type": "markdown",
   "metadata": {},
   "source": [
    "### 118. 杨辉三角\n",
    "给定一个非负整数 numRows，生成「杨辉三角」的前 numRows 行。\n",
    "\n",
    "在「杨辉三角」中，每个数是它左上方和右上方的数的和。 \n",
    "\n",
    "- 示例 1:输入: numRows = 5 输出: [[1],[1,1],[1,2,1],[1,3,3,1],[1,4,6,4,1]]\n",
    "- 示例 2:输入: numRows = 1 输出: [[1]]\n",
    " \n",
    "提示:1 <= numRows <= 30"
   ]
  },
  {
   "cell_type": "code",
   "execution_count": null,
   "metadata": {},
   "outputs": [],
   "source": [
    "class Solution:\n",
    "    def generate(self, numRows: int) -> List[List[int]]:\n",
    "        results = []\n",
    "        for i in range(numRows):\n",
    "            result = []\n",
    "            for j in range(i + 1):\n",
    "                if j == 0 or j == i:\n",
    "                    result.append(1)\n",
    "                else:\n",
    "                    result.append(results[i - 1][j - 1] + results[i - 1][j])\n",
    "            results.append(result)\n",
    "        return results"
   ]
  },
  {
   "cell_type": "markdown",
   "metadata": {},
   "source": [
    "119. 杨辉三角 II\n",
    "给定一个非负索引 rowIndex，返回「杨辉三角」的第 rowIndex 行。\n",
    "\n",
    "在「杨辉三角」中，每个数是它左上方和右上方的数的和。\n",
    "\n",
    "示例 1:输入: rowIndex = 3 输出: [1,3,3,1]\n",
    "示例 2:输入: rowIndex = 0 输出: [1]\n",
    "示例 3:输入: rowIndex = 1 输出: [1,1]\n",
    " \n",
    "提示: 0 <= rowIndex <= 33\n",
    " \n",
    "进阶：你可以优化你的算法到 O(rowIndex) 空间复杂度吗？\n",
    "\n",
    "第 n 行 m 个元素值为组合数 $C^m_n$ 的值 "
   ]
  },
  {
   "cell_type": "code",
   "execution_count": null,
   "metadata": {},
   "outputs": [],
   "source": [
    "class Solution:\n",
    "    def getRow(self, rowIndex: int) -> List[int]:\n",
    "        result = []\n",
    "        for i in range(0, rowIndex + 1):\n",
    "            if i == 0:\n",
    "                a = 1\n",
    "            else:\n",
    "                a = int(result[i - 1] * (rowIndex - i + 1) / i)\n",
    "            result.append(a)\n",
    "        return result\n",
    "\n",
    "\n"
   ]
  },
  {
   "cell_type": "code",
   "execution_count": null,
   "metadata": {},
   "outputs": [],
   "source": [
    "class Solution:\n",
    "    def minimumNumbers(self, num: int, k: int) -> int:\n",
    "        for i in range(1, 11):\n",
    "            if k * i <= num:\n",
    "                print()\n",
    "                if (num - k * i) % 10 == 0:\n",
    "                    return i\n",
    "\n",
    "s = Solution()\n",
    "s.minimumNumbers(58, 9)"
   ]
  }
 ],
 "metadata": {
  "kernelspec": {
   "display_name": "Python 3.9.5 64-bit",
   "metadata": {
    "interpreter": {
     "hash": "b8bdd4e700647ba2b08c59e5df8b7da1dcf50a218bcd4c1bcd9b3dc92e8788e5"
    }
   },
   "name": "python3"
  },
  "language_info": {
   "name": "python",
   "nbconvert_exporter": "python",
   "version": "3.9.5-final"
  },
  "orig_nbformat": 2
 },
 "nbformat": 4,
 "nbformat_minor": 2
}
