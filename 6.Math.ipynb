{
 "cells": [
  {
   "cell_type": "markdown",
   "metadata": {},
   "source": [
    "# 数学公式\n",
    "\n",
    "\n",
    "\n",
    "#### 1. Str \n",
    "-  [LeetCode](https://leetcode.cn/problems/zigzag-conversion/)  [| 6. Z 字形变换](#6) \n",
    "\n",
    "#### 2. List \n",
    "\n",
    "#### 3. Linked \n",
    "\n",
    "#### 4. Tree \n",
    "\n",
    "#### 5. Graph \n",
    "\n",
    "#### 6. Num\n",
    "-  [LeetCode](https://leetcode.cn/problems/reverse-integer/)  [| 7. 整数反转](#7) \n",
    "-  [LeetCode](https://leetcode.cn/problems/palindrome-number/)  [| 9. 回文数](#9) \n"
   ]
  },
  {
   "cell_type": "markdown",
   "metadata": {},
   "source": [
    "### 6. <span id = \"6\">Z 字形变换<span>\n",
    "\n",
    "把字符串转成横着的z字形，也就是翻转后的N字形\n",
    "\n",
    "推导转换前后的关系式\n",
    "\n",
    "字符串的长度是m， 转换后如果 一列的长度为 n，一个循环的长度是 t = 2n - 2\n",
    "\n",
    "循环的数量 k = ceil(m / (2n - 2))\n",
    "\n",
    "因此可以定位第i行第j个循环中的第一个元素为  j*t+i\n",
    "\n",
    "每个循环除了0，n-1的位置之外，其他行还有第二个字符对应关系是1，2n-2   2，2n-3   3，2n-4   也就是j，2n-j-1\n",
    "\n",
    "因此第二个元素 (j + 1) * t - i"
   ]
  },
  {
   "cell_type": "code",
   "execution_count": null,
   "metadata": {},
   "outputs": [],
   "source": [
    "class Solution:\n",
    "    def convert(self, s: str, numRows: int) -> str:\n",
    "        if numRows < 2:\n",
    "            return s\n",
    "        \n",
    "        n = len(s)\n",
    "        t = 2*numRows - 2\n",
    "        k = n // t + 1\n",
    "\n",
    "        result = ''\n",
    "        for i in range(numRows):\n",
    "            for j in range(k + 1):\n",
    "                if j * t + i < n:\n",
    "                    if i == 0 or i == numRows - 1:\n",
    "                        result += s[j * t + i]\n",
    "                    else:\n",
    "                        result += s[j * t + i]\n",
    "                        if (j + 1) * t - i < n:\n",
    "                            result += s[(j + 1) * t - i]\n",
    "        return result"
   ]
  },
  {
   "cell_type": "markdown",
   "metadata": {},
   "source": [
    "### 7. <span id = \"7\">整数反转<span>\n",
    "\n",
    "将一个32位的有符号整数进行反转，不能使用超过32位的整型。\n",
    "\n",
    "\n",
    "1. 需要在溢出之前判断大小，因此可以和 INT_MAX // 10 进行对比，由于输入保证满足要求，因此翻转后的最后一位一定小于等于2，那么也就在最后一位反转之前大于 214748364 才会溢出，当等于时最大也就是2147483642不会超过 INT_MAX = 2147483647\n",
    "2. python的余数始终大于等于0，当大于0时需要转化。"
   ]
  },
  {
   "cell_type": "code",
   "execution_count": null,
   "metadata": {},
   "outputs": [],
   "source": [
    "class Solution:\n",
    "    def reverse(self, x: int) -> int:\n",
    "        INT_MAX = 2**31 - 1\n",
    "        INT_MIN = -2**31\n",
    "\n",
    "        b = 0\n",
    "        og = x\n",
    "\n",
    "        while x:\n",
    "            if b > INT_MAX // 10:\n",
    "                return 0\n",
    "            \n",
    "            a = x % 10\n",
    "            if x < 0 and a > 0:\n",
    "                a = 10 - a\n",
    "                x = (x + a) // 10\n",
    "            else:\n",
    "                x = x // 10\n",
    "            \n",
    "            b = b * 10 + a\n",
    "\n",
    "        return b if og > 0 else -b\n",
    "\n",
    "    def reverse(self, x: int) -> int:\n",
    "        INT_MAX = 2**31 - 1\n",
    "        INT_MIN = -2**31\n",
    "\n",
    "        rev = 0\n",
    "\n",
    "        while x:\n",
    "            if rev > INT_MAX // 10 or rev < INT_MAX // 10 + 1:\n",
    "                return 0\n",
    "\n",
    "            digit = x % 10\n",
    "            if x < 0 and digit > 0:\n",
    "                digit -= 10\n",
    "            \n",
    "            x = (x - digit) // 10\n",
    "            rev = rev * 10 + digit\n",
    "\n",
    "        return rev"
   ]
  },
  {
   "cell_type": "markdown",
   "metadata": {},
   "source": [
    "### 9. <span id = \"9\">回文数<span>\n",
    "\n",
    "无需完全反转后判断，只需要翻转一半，判断剔除最后一位是否相等\n",
    "\n",
    "当原数字小于等于反转后的数字，意味着反转过半了"
   ]
  },
  {
   "cell_type": "code",
   "execution_count": null,
   "metadata": {},
   "outputs": [],
   "source": [
    "class Solution:\n",
    "    def isPalindrome(self, x: int) -> bool:\n",
    "        if x < 0:\n",
    "            return False\n",
    "        \n",
    "        b = 0\n",
    "        a = x\n",
    "        while a:\n",
    "            b = b * 10 + a % 10\n",
    "            a = a // 10\n",
    "\n",
    "        return b == x\n",
    "\n",
    "    def isPalindrome(self, x: int) -> bool:\n",
    "        if x < 0 or (x % 10 == 0 and x != 0):\n",
    "            return False\n",
    "        \n",
    "        b = 0\n",
    "        while x > b:\n",
    "            b = b * 10 + x % 10\n",
    "            x = x // 10\n",
    "\n",
    "        return b == x or b//10 == x"
   ]
  }
 ],
 "metadata": {
  "kernelspec": {
   "display_name": "Python 3.9.6 64-bit",
   "language": "python",
   "name": "python3"
  },
  "language_info": {
   "name": "python",
   "version": "3.9.6"
  },
  "orig_nbformat": 4,
  "vscode": {
   "interpreter": {
    "hash": "1aec40e0cc8dcd72ae861723d928da7f867ad57df585952e683e938264a3f0b6"
   }
  }
 },
 "nbformat": 4,
 "nbformat_minor": 2
}
