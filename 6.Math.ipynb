{
 "cells": [
  {
   "cell_type": "markdown",
   "metadata": {},
   "source": [
    "### 118. 杨辉三角\n",
    "给定一个非负整数 numRows，生成「杨辉三角」的前 numRows 行。\n",
    "\n",
    "在「杨辉三角」中，每个数是它左上方和右上方的数的和。 \n",
    "\n",
    "- 示例 1:输入: numRows = 5 输出: [[1],[1,1],[1,2,1],[1,3,3,1],[1,4,6,4,1]]\n",
    "- 示例 2:输入: numRows = 1 输出: [[1]]\n",
    " \n",
    "提示:1 <= numRows <= 30"
   ]
  },
  {
   "cell_type": "code",
   "execution_count": null,
   "metadata": {},
   "outputs": [],
   "source": [
    "class Solution:\n",
    "    def generate(self, numRows: int) -> List[List[int]]:\n",
    "        results = []\n",
    "        for i in range(numRows):\n",
    "            result = []\n",
    "            for j in range(i + 1):\n",
    "                if j == 0 or j == i:\n",
    "                    result.append(1)\n",
    "                else:\n",
    "                    result.append(results[i - 1][j - 1] + results[i - 1][j])\n",
    "            results.append(result)\n",
    "        return results"
   ]
  },
  {
   "cell_type": "markdown",
   "metadata": {},
   "source": []
  }
 ],
 "metadata": {
  "kernelspec": {
   "display_name": "Python 3.9.5 64-bit",
   "metadata": {
    "interpreter": {
     "hash": "b8bdd4e700647ba2b08c59e5df8b7da1dcf50a218bcd4c1bcd9b3dc92e8788e5"
    }
   },
   "name": "python3"
  },
  "language_info": {
   "name": "python",
   "nbconvert_exporter": "python",
   "version": "3.9.5-final"
  },
  "orig_nbformat": 2
 },
 "nbformat": 4,
 "nbformat_minor": 2
}