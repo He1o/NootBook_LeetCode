{
 "cells": [
  {
   "cell_type": "markdown",
   "metadata": {},
   "source": [
    "# 回溯\n",
    "\n",
    "\n",
    "\n",
    "#### 1. Str \n",
    "\n",
    "#### 2. List \n",
    "\n",
    "#### 3. Linked \n",
    "\n",
    "#### 4. Tree \n",
    "\n",
    "#### 5. Graph \n",
    "\n",
    "#### 6. Num\n",
    "\n",
    "#### 7. Combination\n",
    "-  [LeetCode](https://leetcode.cn/problems/letter-combinations-of-a-phone-number/)  [| 17. 电话号码的字母组合](#17) \n",
    "-  [LeetCode](https://leetcode.cn/problems/generate-parentheses/)  [| 22. 括号生成](#22) \n"
   ]
  },
  {
   "cell_type": "markdown",
   "metadata": {},
   "source": [
    "### 17. <span id = \"17\">电话号码的字母组合<span>"
   ]
  },
  {
   "cell_type": "code",
   "execution_count": null,
   "metadata": {},
   "outputs": [],
   "source": [
    "class Solution:\n",
    "    def letterCombinations(self, digits: str) -> List[str]:\n",
    "        if not digits:\n",
    "            return []\n",
    "        table = {\n",
    "            2: 'abc',\n",
    "            3: 'def',\n",
    "            4: 'ghi',\n",
    "            5: 'jkl',\n",
    "            6: 'mno',\n",
    "            7: 'pqrs',\n",
    "            8: 'tuv',\n",
    "            9: 'wxyz'\n",
    "        }\n",
    "\n",
    "        n = len(digits)\n",
    "        results = []\n",
    "        result = ''\n",
    "        def backTrack(i):\n",
    "            nonlocal result\n",
    "            if i == n:\n",
    "                results.append(result)\n",
    "                return\n",
    "\n",
    "            for ch in table[int(digits[i])]:\n",
    "                result += ch\n",
    "                backTrack(i + 1)\n",
    "                result = result[:-1]\n",
    "\n",
    "        backTrack(0)\n",
    "        return results"
   ]
  },
  {
   "cell_type": "markdown",
   "metadata": {},
   "source": [
    "### 22. <span id = \"22\">括号生成<span>\n"
   ]
  },
  {
   "cell_type": "code",
   "execution_count": null,
   "metadata": {},
   "outputs": [],
   "source": [
    "class Solution:\n",
    "    def generateParenthesis(self, n: int) -> List[str]:\n",
    "        results = []\n",
    "        result = []\n",
    "\n",
    "        def dfs(i, j):\n",
    "            if i == 0 and j == 0:\n",
    "                results.append(''.join(result))\n",
    "\n",
    "            if i < j:\n",
    "                result.append(')')\n",
    "                dfs(i, j - 1)\n",
    "                result.pop()\n",
    "            if i > 0:\n",
    "                result.append('(')\n",
    "                dfs(i - 1, j)\n",
    "                result.pop()\n",
    "        \n",
    "        dfs(n, n)\n",
    "        return results"
   ]
  }
 ],
 "metadata": {
  "kernelspec": {
   "display_name": "Python 3.9.6 64-bit",
   "language": "python",
   "name": "python3"
  },
  "language_info": {
   "name": "python",
   "version": "3.9.6"
  },
  "orig_nbformat": 4,
  "vscode": {
   "interpreter": {
    "hash": "1aec40e0cc8dcd72ae861723d928da7f867ad57df585952e683e938264a3f0b6"
   }
  }
 },
 "nbformat": 4,
 "nbformat_minor": 2
}
