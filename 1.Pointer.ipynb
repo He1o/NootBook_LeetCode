{
 "cells": [
  {
   "cell_type": "markdown",
   "metadata": {},
   "source": [
    "# 指针方法\n",
    "\n",
    "#### 1. Str \n",
    "-  [LeetCode](https://leetcode.cn/problems/longest-substring-without-repeating-characters/)  [| 3. 无重复字符的最长子串](#3) (快慢指针)\n",
    "-  [LeetCode](https://leetcode.cn/problems/longest-palindromic-substring/)  [| 5. 最长回文子串](#5) (中心扩展)\n",
    "\n",
    "#### 2. List \n",
    "-  [LeetCode](https://leetcode.cn/problems/container-with-most-water/)  [| 11. 盛最多水的容器](#11) (前后指针)\n",
    "-  [LeetCode](https://leetcode.cn/problems/3sum/)  [| 15. 三数之和](#15) (前后指针)\n",
    "-  [LeetCode](https://leetcode.cn/problems/3sum-closest/)  [| 16. 最接近的三数之和](#16) (前后指针)\n",
    "-  [LeetCode](https://leetcode.cn/problems/4sum/)  [| 18. 四数之和](#18) (前后指针)\n",
    "-  [LeetCode](https://leetcode.cn/problems/remove-duplicates-from-sorted-array/)  [| 26. 删除有序数组中的重复项](#26) (快慢指针)\n",
    "-  [LeetCode](https://leetcode.cn/problems/remove-element/)  [| 27. 移除元素](#27) (快慢指针)\n",
    "\n",
    "#### 3. Linked \n",
    "-  [LeetCode](https://leetcode.cn/problems/remove-nth-node-from-end-of-list/)  [| 19. 删除链表的倒数第 N 个结点](#19) (快慢指针)\n",
    "-  [LeetCode](https://leetcode.cn/problems/merge-two-sorted-lists/)  [| 21. 合并两个有序链表](#21) \n",
    "-  [LeetCode](https://leetcode.cn/problems/merge-k-sorted-lists/)  [| 23. 合并K个升序链表](#23) \n",
    "-  [LeetCode](https://leetcode.cn/problems/merge-two-sorted-lists/)  [| 24. 两两交换链表中的节点](#24) \n",
    "-  [LeetCode](https://leetcode.cn/problems/reverse-nodes-in-k-group/)  [| 25. K 个一组翻转链表](#25) \n",
    "\n",
    "#### 4. Tree \n",
    "\n",
    "#### 5. Graph \n"
   ]
  },
  {
   "cell_type": "markdown",
   "metadata": {},
   "source": [
    "### 3. <span id = \"3\">无重复字符的最长子串<span>\n",
    "\n",
    "给定一个字符串，找出其中不含有重复字符的最长子串的长度。\n",
    "\n",
    "1. 双指针+哈希表\n",
    "2. 右指针一直右移，左指针指在不重复子串开始的位置\n",
    "3. 当右指针元素在哈希表中，从左指针开始移除元素，并且左指针前进，直到右指针元素不在哈希表中。"
   ]
  },
  {
   "cell_type": "code",
   "execution_count": 1,
   "metadata": {},
   "outputs": [],
   "source": [
    "class Solution:\n",
    "    def lengthOfLongestSubstring(self, s: str) -> int:\n",
    "        chset = set()\n",
    "        result = j = 0\n",
    "        for i in range(len(s)):\n",
    "            while s[i] in chset:\n",
    "                chset.remove(s[j])\n",
    "                j += 1\n",
    "            chset.add(s[i])\n",
    "            result = max(result, i - j + 1)\n",
    "        return result"
   ]
  },
  {
   "cell_type": "markdown",
   "metadata": {},
   "source": [
    "### 5. <span id = \"5\">最长回文子串<span>\n",
    "\n",
    "给你一个字符串 s，找到 s 中最长的回文子串。\n",
    "\n",
    "1. 中心扩展的方法，确定中心索引，左右指针同时向外移动\n"
   ]
  },
  {
   "cell_type": "code",
   "execution_count": null,
   "metadata": {},
   "outputs": [],
   "source": [
    "class Solution:\n",
    "    def longestPalindrome(self, s: str) -> str:\n",
    "        if not s:\n",
    "            return ''\n",
    "        \n",
    "        def judge(i, j):\n",
    "            if i >= 0 and j < n and s[i] == s[j]:\n",
    "                return True\n",
    "            else:\n",
    "                return False\n",
    "\n",
    "        n = len(s)\n",
    "        maxLen = 1\n",
    "        start, end = 0, 0\n",
    "        for center in range(n):\n",
    "            for i, j in [[center - 1, center + 1], [center, center + 1]]:\n",
    "                while judge(i, j):\n",
    "                    if j - i + 1 > maxLen:\n",
    "                        maxLen = j - i + 1\n",
    "                        start, end = i, j\n",
    "                    i -= 1\n",
    "                    j += 1\n",
    "        return s[start: end + 1]\n",
    "\n"
   ]
  },
  {
   "cell_type": "markdown",
   "metadata": {},
   "source": [
    "### 11. <span id = \"11\">盛最多水的容器<span>\n",
    "\n",
    "总的搜索空间是i*j\n",
    "\n",
    "如果移动长的，最优结果不会增加，那么这些选择都可以减掉\n",
    "\n",
    "通过i+1，减掉所有(i,j-1),(i,j-2)...(i,i+1)\n"
   ]
  },
  {
   "cell_type": "code",
   "execution_count": null,
   "metadata": {},
   "outputs": [],
   "source": [
    "class Solution:\n",
    "    def maxArea(self, height: List[int]) -> int:\n",
    "        i, j = 0, len(height) - 1\n",
    "        result = 0\n",
    "        while i < j:\n",
    "            result = max(result, min(height[i], height[j]) * (j - i))\n",
    "            if height[i] > height[j]:\n",
    "                j -= 1\n",
    "            else:\n",
    "                i += 1\n",
    "        return result"
   ]
  },
  {
   "cell_type": "markdown",
   "metadata": {},
   "source": [
    "### 15. <span id = \"15\">三数之和<span>\n",
    "\n",
    "思路与11题相似，在排序之后，第一个指针确定第一个数，二三指针前后遍历\n",
    "\n",
    "当总和比0大的时候，只有移动较大的指针才会使总和接近于0，而移动较小的指针不会起作用，这就是双指针的思路\n",
    "\n",
    "与两数之和不同的地方在于，用哈希表时间复杂度可以满足要求，但难以去重\n",
    "\n",
    "而两数之和之所以无法用双指针，是因为排序时间nlogn比单次遍历时间还要久\n",
    "\n",
    "三个指针移动的时候都需要去重"
   ]
  },
  {
   "cell_type": "code",
   "execution_count": null,
   "metadata": {},
   "outputs": [],
   "source": [
    "class Solution:\n",
    "    def threeSum(self, nums: List[int]) -> List[List[int]]:\n",
    "        nums.sort()\n",
    "        n = len(nums)\n",
    "        results = []\n",
    "        for i in range(n):\n",
    "            if nums[i] > 0:\n",
    "                break\n",
    "            if i > 0 and nums[i] == nums[i - 1]:\n",
    "                continue\n",
    "\n",
    "            j, k = i + 1, n - 1\n",
    "            while j < k:\n",
    "                total = nums[i] + nums[j] + nums[k]\n",
    "                if total == 0:\n",
    "                    results.append([nums[i], nums[j], nums[k]])\n",
    "                    j += 1\n",
    "                    k -= 1\n",
    "                    while j < k and nums[j] == nums[j - 1]: j += 1\n",
    "                    while j < k and nums[k] == nums[k + 1]: k -= 1\n",
    "                elif total > 0:\n",
    "                    k -= 1\n",
    "                    while j < k and nums[k] == nums[k + 1]: k -= 1\n",
    "                else:\n",
    "                    j += 1\n",
    "                    while j < k and nums[j] == nums[j - 1]: j += 1\n",
    "\n",
    "        return results"
   ]
  },
  {
   "cell_type": "markdown",
   "metadata": {},
   "source": [
    "### 16. <span id = \"16\">最接近的三数之和<span>"
   ]
  },
  {
   "cell_type": "code",
   "execution_count": null,
   "metadata": {},
   "outputs": [],
   "source": [
    "class Solution:\n",
    "    def threeSumClosest(self, nums: List[int], target: int) -> int:\n",
    "        n = len(nums)\n",
    "        nums.sort()\n",
    "        mindis = float('inf')\n",
    "        result = 0\n",
    "        for k in range(n):\n",
    "            if k > 0 and nums[k] == nums[k - 1]:\n",
    "                continue\n",
    "\n",
    "            i, j = k + 1, n - 1\n",
    "            while i < j:\n",
    "                dis = nums[i] + nums[j] + nums[k] - target\n",
    "\n",
    "                if abs(dis) < mindis:\n",
    "                    mindis = abs(dis)\n",
    "                    result= nums[i] + nums[j] + nums[k]\n",
    "                \n",
    "                if dis == 0:\n",
    "                    return target\n",
    "                elif dis < 0:\n",
    "                    i += 1\n",
    "                    while i < j and nums[i] == nums[i - 1]:\n",
    "                        i += 1\n",
    "                else:\n",
    "                    j -= 1\n",
    "                    while i < j and nums[j] == nums[j + 1]:\n",
    "                        j -= 1\n",
    "\n",
    "        return result"
   ]
  },
  {
   "cell_type": "markdown",
   "metadata": {},
   "source": [
    "### 18. <span id = \"18\">四数之和<span>\n",
    "\n",
    "剪枝操作不能和15题一样，因为本题目标值是任意的\n",
    "\n",
    "要判断最近的四个数之和是否大于目标值，如果是则不再存在解 nums[i] + nums[i + 1] + nums[i + 2] + nums[i + 3] > target\n",
    "\n",
    "或者与末尾的三个数之和是否小于目标值，如果是则i应该前进 nums[i] + nums[n - 3] + nums[n - 2] + nums[n - 1] < target\n"
   ]
  },
  {
   "cell_type": "code",
   "execution_count": null,
   "metadata": {},
   "outputs": [],
   "source": [
    "class Solution:\n",
    "    def fourSum(self, nums: List[int], target: int) -> List[List[int]]:\n",
    "        n = len(nums)\n",
    "        nums.sort()\n",
    "        results = []\n",
    "\n",
    "        for i in range(n - 3):\n",
    "            \n",
    "            if nums[i] + nums[i + 1] + nums[i + 2] + nums[i + 3] > target:\n",
    "                break\n",
    "            if nums[i] + nums[n - 3] + nums[n - 2] + nums[n - 1] < target:\n",
    "                continue\n",
    "\n",
    "            if i > 0 and nums[i] == nums[i - 1]:\n",
    "                continue\n",
    "            \n",
    "            for j in range(i + 1, n - 2):\n",
    "                \n",
    "                if nums[i] + nums[j] + nums[j + 1] + nums[j + 2] > target:\n",
    "                    break\n",
    "                if nums[i] + nums[j] + nums[n - 2] + nums[n - 1] < target:\n",
    "                    continue\n",
    "\n",
    "                if j > i + 1 and nums[j] == nums[j - 1]:\n",
    "                    continue\n",
    "\n",
    "                k, l = j + 1, n - 1\n",
    "                \n",
    "                while k < l:\n",
    "                    total = nums[i] + nums[j] + nums[k] + nums[l]\n",
    "                    if total == target:\n",
    "                        results.append([nums[i], nums[j], nums[k], nums[l]])\n",
    "                        k += 1\n",
    "                        l -= 1\n",
    "                        while k < l and nums[k] == nums[k - 1]:\n",
    "                            k += 1\n",
    "                        while k < l and nums[l] == nums[l + 1]:\n",
    "                            l -= 1\n",
    "                    elif total < target:\n",
    "                        k += 1\n",
    "                        while k < l and nums[k] == nums[k - 1]:\n",
    "                            k += 1\n",
    "                    else:\n",
    "                        l -= 1\n",
    "                        while k < l and nums[l] == nums[l + 1]:\n",
    "                            l -= 1\n",
    "        return results"
   ]
  },
  {
   "cell_type": "markdown",
   "metadata": {},
   "source": [
    "### 19. <span id = \"19\">删除链表的倒数第 N 个结点<span>\n",
    "\n",
    "经典快慢指针\n"
   ]
  },
  {
   "cell_type": "code",
   "execution_count": null,
   "metadata": {},
   "outputs": [],
   "source": [
    "class Solution:\n",
    "    def removeNthFromEnd(self, head: Optional[ListNode], n: int) -> Optional[ListNode]:\n",
    "        dummy = ListNode(0, head)\n",
    "        fast = head\n",
    "        slow = dummy\n",
    "        for _ in range(n):\n",
    "            fast = fast.next\n",
    "\n",
    "        while fast:\n",
    "            slow = slow.next\n",
    "            fast = fast.next\n",
    "        \n",
    "        slow.next = slow.next.next\n",
    "        return dummy.next"
   ]
  },
  {
   "cell_type": "markdown",
   "metadata": {},
   "source": [
    "### 21. <span id = \"21\">合并两个有序链表<span>\n",
    "\n",
    "迭代形式，还可以用递归"
   ]
  },
  {
   "cell_type": "code",
   "execution_count": null,
   "metadata": {},
   "outputs": [],
   "source": [
    "class Solution:\n",
    "    def mergeTwoLists(self, list1: Optional[ListNode], list2: Optional[ListNode]) -> Optional[ListNode]:\n",
    "        head = dummy = ListNode()\n",
    "        while list1 and list2:\n",
    "            if list1.val < list2.val:\n",
    "                head.next = list1\n",
    "                list1 = list1.next\n",
    "            else:\n",
    "                head.next = list2\n",
    "                list2 = list2.next\n",
    "            head = head.next\n",
    "        head.next = list1 if list1 else list2\n",
    "        return dummy.next"
   ]
  },
  {
   "cell_type": "markdown",
   "metadata": {},
   "source": [
    "### 23. <span id = \"23\">合并K个升序链表<span>\n",
    "\n",
    "链表长n，共有k个链表\n",
    "\n",
    "常规思路是最小的头结点，时间复杂度是O(k)，总时间为O(kn*k)\n",
    "\n",
    "相当于指针遍历，非常慢，需要用堆或者二分法进行优化"
   ]
  },
  {
   "cell_type": "code",
   "execution_count": null,
   "metadata": {},
   "outputs": [],
   "source": [
    "class Solution:\n",
    "    def mergeKLists(self, lists: List[Optional[ListNode]]) -> Optional[ListNode]:\n",
    "        def minIndex(lists):\n",
    "            minVal = float('inf')\n",
    "            minIdx = None\n",
    "            for idx, head in enumerate(lists):\n",
    "                if head and head.val < minVal:\n",
    "                    minVal = head.val\n",
    "                    minIdx = idx\n",
    "            if minIdx is not None:\n",
    "                tmp = lists[minIdx]\n",
    "                lists[minIdx] = lists[minIdx].next\n",
    "                return tmp\n",
    "            else:\n",
    "                return None\n",
    "\n",
    "        head = dummy = ListNode()\n",
    "        while True:\n",
    "            head.next = minIndex(lists)\n",
    "            head = head.next\n",
    "            if not head:\n",
    "                break\n",
    "        return dummy.next"
   ]
  },
  {
   "cell_type": "markdown",
   "metadata": {},
   "source": [
    "### 24. <span id = \"24\">两两交换链表中的节点<span>"
   ]
  },
  {
   "cell_type": "code",
   "execution_count": null,
   "metadata": {},
   "outputs": [],
   "source": [
    "class Solution:\n",
    "    def swapPairs(self, head: Optional[ListNode]) -> Optional[ListNode]:\n",
    "        def reverse(pre):\n",
    "            tmp = pre.next\n",
    "            pre.next = pre.next.next\n",
    "            tmp.next = pre.next.next\n",
    "            pre.next.next = tmp\n",
    "            return tmp\n",
    "\n",
    "        tmp = dummy = ListNode(0, head)\n",
    "        \n",
    "        while tmp and tmp.next and tmp.next.next:\n",
    "            tmp = reverse(tmp)\n",
    "        return dummy.next"
   ]
  },
  {
   "cell_type": "markdown",
   "metadata": {},
   "source": [
    "### 25. <span id = \"25\">K 个一组翻转链表<span>\n",
    "\n",
    "翻转k个元素，只需要翻转k-1次\n",
    "\n",
    "翻转冗余的地方在于，如果初始prev就指向末尾元素之后的链表，那么正好操作k次就好\n",
    "\n",
    "而下面的做法prev指向head，操作k-1次之后，还需要把末尾元素之后的链表拼接在开始head的后面，需要一直保留head\n",
    "\n",
    "实际上第一步就可以做这件事情\n",
    "\n",
    "prev，head，temp 依次前进，head 可以不保留"
   ]
  },
  {
   "cell_type": "code",
   "execution_count": null,
   "metadata": {},
   "outputs": [],
   "source": [
    "\n",
    "'''\n",
    "|——————————|       |——————————|       |——————————|       |——————————|       |——————————|\n",
    "|          |-------|→   1     |-------|→   2     |-------|→   3     |-------|→   4     |------→None\n",
    "|——————————|       |——————————|       |——————————|       |——————————|       |——————————|\n",
    "                        ↑head              ↑temp              ↑prev\n",
    "\n",
    "\n",
    "                        |——————————————————————————————————————\n",
    "                        |                                     ↓\n",
    "|——————————|       |——————————|       |——————————|       |——————————|       |——————————|\n",
    "|          |-------|→   1     |       |    2     |-------|→   3     |-------|→   4     |------→None\n",
    "|——————————|       |——————————|       |——————————|       |——————————|       |——————————|\n",
    "                        ↑prev              ↑head              ↑temp              \n",
    "\n",
    "\n",
    "                        |——————————————————————————————————————\n",
    "                        |                                     ↓\n",
    "|——————————|       |——————————|       |——————————|       |——————————|       |——————————|\n",
    "|          |-------|→   1    ←|-------|    2     |       |    3     |-------|→   4     |------→None\n",
    "|——————————|       |——————————|       |——————————|       |——————————|       |——————————|\n",
    "                                           ↑prev              ↑head              ↑temp     \n",
    "\n",
    "上面是k=2的情况，然后将prev的指针返回，替换传入的dummy的next\n",
    "\n",
    "                        |——————————————————————————————————————\n",
    "                        |                                     ↓\n",
    "|——————————|       |——————————|       |——————————|       |——————————|       |——————————|\n",
    "|          |       |    1    ←|-------|    2     |       |    3     |-------|→   4     |------→None\n",
    "|——————————|       |——————————|       |——————————|       |——————————|       |——————————|\n",
    "      |                                      ↑prev              ↑head              ↑temp \n",
    "      |——————————————————————————————————————|\n",
    "'''\n",
    "\n",
    "\n",
    "class Solution:\n",
    "    def reverseKGroup(self, head: Optional[ListNode], k: int) -> Optional[ListNode]:\n",
    "        def reverse(head):\n",
    "            prev = head\n",
    "            curr = head.next\n",
    "            for _ in range(k - 1):\n",
    "                temp = curr.next\n",
    "                curr.next = prev\n",
    "                prev = curr\n",
    "                curr = temp\n",
    "            head.next = curr\n",
    "            return prev\n",
    "\n",
    "        prev = dummy = ListNode(0, head)\n",
    "        while prev:\n",
    "            head = prev\n",
    "            for _ in range(k):\n",
    "                head = head.next\n",
    "                if not head:\n",
    "                    return dummy.next\n",
    "            temp = prev.next\n",
    "            prev.next = reverse(prev.next)\n",
    "            prev = temp\n",
    "        return dummy.next"
   ]
  },
  {
   "cell_type": "markdown",
   "metadata": {},
   "source": [
    "### 26. <span id = \"26\">删除有序数组中的重复项<span>\n",
    "\n",
    "判断条件的时候，不同再操作比起相同情况下前进fast指针，代码会更加简洁。"
   ]
  },
  {
   "cell_type": "code",
   "execution_count": null,
   "metadata": {},
   "outputs": [],
   "source": [
    "class Solution:\n",
    "    def removeDuplicates(self, nums: List[int]) -> int:\n",
    "        slow = fast = 1\n",
    "        while fast < len(nums):\n",
    "            if nums[fast] != nums[slow - 1]:\n",
    "                nums[slow] = nums[fast]\n",
    "                slow += 1\n",
    "            fast += 1\n",
    "        return slow"
   ]
  },
  {
   "cell_type": "markdown",
   "metadata": {},
   "source": [
    "### 27. <span id = \"27\">移除元素<span>"
   ]
  },
  {
   "cell_type": "code",
   "execution_count": null,
   "metadata": {},
   "outputs": [],
   "source": [
    "class Solution:\n",
    "    def removeElement(self, nums: List[int], val: int) -> int:\n",
    "        slow = fast = 0\n",
    "        while fast < len(nums):\n",
    "            if nums[fast] != val:\n",
    "                nums[slow] = nums[fast]\n",
    "                slow += 1\n",
    "            fast += 1\n",
    "        return slow"
   ]
  }
 ],
 "metadata": {
  "kernelspec": {
   "display_name": "Python 3.9.6 64-bit",
   "language": "python",
   "name": "python3"
  },
  "language_info": {
   "codemirror_mode": {
    "name": "ipython",
    "version": 3
   },
   "file_extension": ".py",
   "mimetype": "text/x-python",
   "name": "python",
   "nbconvert_exporter": "python",
   "pygments_lexer": "ipython3",
   "version": "3.9.6"
  },
  "orig_nbformat": 4,
  "vscode": {
   "interpreter": {
    "hash": "1aec40e0cc8dcd72ae861723d928da7f867ad57df585952e683e938264a3f0b6"
   }
  }
 },
 "nbformat": 4,
 "nbformat_minor": 2
}
