{
 "cells": [
  {
   "cell_type": "markdown",
   "metadata": {},
   "source": [
    "### 138. 复制带随机指针的链表\n",
    "给你一个长度为 n 的链表，每个节点包含一个额外增加的随机指针 random ，该指针可以指向链表中的任何节点或空节点。\n",
    "\n",
    "构造这个链表的 深拷贝。 深拷贝应该正好由 n 个 全新 节点组成，其中每个新节点的值都设为其对应的原节点的值。新节点的 next 指针和 random 指针也都应指向复制链表中的新节点，并使原链表和复制链表中的这些指针能够表示相同的链表状态。复制链表中的指针都不应指向原链表中的节点 。\n",
    "\n",
    "例如，如果原链表中有 X 和 Y 两个节点，其中 X.random --> Y 。那么在复制链表中对应的两个节点 x 和 y ，同样有 x.random --> y 。\n",
    "\n",
    "返回复制链表的头节点。\n",
    "\n",
    "用一个由 n 个节点组成的链表来表示输入/输出中的链表。每个节点用一个 [val, random_index] 表示：\n",
    "\n",
    "val：一个表示 Node.val 的整数。\n",
    "random_index：随机指针指向的节点索引（范围从 0 到 n-1）；如果不指向任何节点，则为  null 。\n",
    "你的代码 只 接受原链表的头节点 head 作为传入参数。\n",
    "\n",
    " \n",
    "\n",
    "示例 1：\n",
    "\n",
    "\n",
    "\n",
    "输入：head = [[7,null],[13,0],[11,4],[10,2],[1,0]]\n",
    "输出：[[7,null],[13,0],[11,4],[10,2],[1,0]]\n",
    "示例 2：\n",
    "\n",
    "\n",
    "\n",
    "输入：head = [[1,1],[2,1]]\n",
    "输出：[[1,1],[2,1]]\n",
    "示例 3：\n",
    "\n",
    "\n",
    "\n",
    "输入：head = [[3,null],[3,0],[3,null]]\n",
    "输出：[[3,null],[3,0],[3,null]]\n",
    " \n",
    "\n",
    "提示：\n",
    "\n",
    "0 <= n <= 1000\n",
    "-104 <= Node.val <= 104\n",
    "Node.random 为 null 或指向链表中的节点。"
   ]
  },
  {
   "cell_type": "code",
   "execution_count": null,
   "metadata": {},
   "outputs": [],
   "source": [
    "class Solution:\n",
    "    def copyRandomList(self, head: 'Optional[Node]') -> 'Optional[Node]':\n",
    "        dic = {}\n",
    "        def dfs(head):\n",
    "            if not head:\n",
    "                return None\n",
    "            if head in dic:\n",
    "                return dic[head]\n",
    "            \n",
    "            \n",
    "            new = Node(head.val)\n",
    "            dic[head] = new\n",
    "            new.next = dfs(head.next)\n",
    "            new.random = dfs(head.random)\n",
    "            return new\n",
    "        return dfs(head)\n",
    "\n",
    "    \n",
    "    def copyRandomList(self, head: 'Optional[Node]') -> 'Optional[Node]':\n",
    "        \n",
    "\n"
   ]
  }
 ],
 "metadata": {
  "language_info": {
   "name": "python"
  },
  "orig_nbformat": 4
 },
 "nbformat": 4,
 "nbformat_minor": 2
}
