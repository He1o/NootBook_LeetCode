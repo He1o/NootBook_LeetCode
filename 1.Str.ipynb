{
 "cells": [
  {
   "cell_type": "code",
   "execution_count": 2,
   "metadata": {},
   "outputs": [
    {
     "name": "stdout",
     "output_type": "stream",
     "text": [
      "97\n",
      "114\n",
      "82\n",
      "65\n",
      "122\n",
      "70\n",
      "105\n",
      "102\n"
     ]
    },
    {
     "data": {
      "text/plain": [
       "'R'"
      ]
     },
     "execution_count": 2,
     "metadata": {},
     "output_type": "execute_result"
    }
   ],
   "source": [
    "class Solution:\n",
    "    def greatestLetter(self, s: str) -> str:\n",
    "        best = 0\n",
    "        little = []\n",
    "        large = []\n",
    "        for let in s:\n",
    "            num = ord(let)\n",
    "            print(num)\n",
    "            if 97 <= num <= 122:\n",
    "                little.append(num)\n",
    "                if num - 32 in large:\n",
    "                    if num - 32 > best:\n",
    "                        best = num - 32\n",
    "            else:\n",
    "                large.append(num)\n",
    "                if num + 32 in little:\n",
    "                    if num > best:\n",
    "                        best = num\n",
    "        if best == 0:\n",
    "            return ''\n",
    "        else:\n",
    "            return chr(best)\n",
    "                \n",
    "s = Solution()\n",
    "s.greatestLetter(\"arRAzFif\")               "
   ]
  }
 ],
 "metadata": {
  "kernelspec": {
   "display_name": "Python 3.9.6 64-bit",
   "language": "python",
   "name": "python3"
  },
  "language_info": {
   "codemirror_mode": {
    "name": "ipython",
    "version": 3
   },
   "file_extension": ".py",
   "mimetype": "text/x-python",
   "name": "python",
   "nbconvert_exporter": "python",
   "pygments_lexer": "ipython3",
   "version": "3.9.6"
  },
  "orig_nbformat": 4,
  "vscode": {
   "interpreter": {
    "hash": "1aec40e0cc8dcd72ae861723d928da7f867ad57df585952e683e938264a3f0b6"
   }
  }
 },
 "nbformat": 4,
 "nbformat_minor": 2
}
