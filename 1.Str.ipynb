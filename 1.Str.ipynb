{
 "cells": [
  {
   "cell_type": "code",
   "execution_count": 11,
   "metadata": {},
   "outputs": [
    {
     "name": "stdout",
     "output_type": "stream",
     "text": [
      "11DSFSG.;ASDFTW\n",
      "11dsfsg.;asdftw\n",
      "11dsfsgASDFTw\n",
      "48\n",
      "57\n"
     ]
    }
   ],
   "source": [
    "s = '11dsfsg.;ASDFTw'\n",
    "print(s.upper())\n",
    "print(s.lower())\n",
    "print(''.join(ch for ch in s if ch.isalnum()))  # 无需列表\n",
    "print(ord('0'))\n",
    "print(ord('9'))"
   ]
  },
  {
   "cell_type": "code",
   "execution_count": null,
   "metadata": {},
   "outputs": [],
   "source": [
    "class Solution:\n",
    "    def greatestLetter(self, s: str) -> str:\n",
    "        best = 0\n",
    "        little = []\n",
    "        large = []\n",
    "        for let in s:\n",
    "            num = ord(let)\n",
    "            print(num)\n",
    "            if 97 <= num <= 122:\n",
    "                little.append(num)\n",
    "                if num - 32 in large:\n",
    "                    if num - 32 > best:\n",
    "                        best = num - 32\n",
    "            else:\n",
    "                large.append(num)\n",
    "                if num + 32 in little:\n",
    "                    if num > best:\n",
    "                        best = num\n",
    "        if best == 0:\n",
    "            return ''\n",
    "        else:\n",
    "            return chr(best)\n",
    "                \n",
    "s = Solution()\n",
    "s.greatestLetter(\"arRAzFif\")               "
   ]
  },
  {
   "cell_type": "markdown",
   "metadata": {},
   "source": [
    "### 125. 验证回文串\n",
    "给定一个字符串，验证它是否是回文串，只考虑字母和数字字符，可以忽略字母的大小写。\n",
    "\n",
    "说明：本题中，我们将空字符串定义为有效的回文串。\n",
    "\n",
    "- 示例 1: 输入: \"A man, a plan, a canal: Panama\" 输出: true 解释：\"amanaplanacanalpanama\" 是回文串\n",
    "- 示例 2: 输入: \"race a car\" 输出: false 解释：\"raceacar\" 不是回文串"
   ]
  },
  {
   "cell_type": "code",
   "execution_count": null,
   "metadata": {},
   "outputs": [],
   "source": [
    "class Solution:\n",
    "    def isPalindrome(self, s: str) -> bool:\n",
    "        nums = '1234567890'\n",
    "        strs = 'qwertyuiopasdfghjklzxcvbnm'\n",
    "        i, j = 0, len(s) - 1\n",
    "        while i < j:\n",
    "            while i < j and s[i].lower() not in nums+strs:\n",
    "                i += 1\n",
    "            while i < j and s[j].lower() not in nums+strs:\n",
    "                j -= 1\n",
    "            \n",
    "            if i < j:\n",
    "                if s[i].lower() != s[j].lower():\n",
    "                    return False\n",
    "                i += 1\n",
    "                j -= 1\n",
    "        return True\n",
    "\n",
    "\n",
    "class Solution:\n",
    "    def isPalindrome(self, s: str) -> bool:\n",
    "        i, j = 0, len(s) - 1\n",
    "        while i < j:\n",
    "            while i < j and not s[i].isalnum():\n",
    "                i += 1\n",
    "            while i < j and not s[j].isalnum():\n",
    "                j -= 1\n",
    "            \n",
    "            if i < j:\n",
    "                if s[i].lower() != s[j].lower():\n",
    "                    return False\n",
    "                i += 1\n",
    "                j -= 1\n",
    "        return True\n"
   ]
  },
  {
   "cell_type": "markdown",
   "metadata": {},
   "source": [
    "### 131. 分割回文串\n",
    "给你一个字符串 s，请你将 s 分割成一些子串，使每个子串都是 回文串 。返回 s 所有可能的分割方案。\n",
    "\n",
    "回文串 是正着读和反着读都一样的字符串。\n",
    "\n",
    "- 示例 1：输入：s = \"aab\"输出：[[\"a\",\"a\",\"b\"],[\"aa\",\"b\"]]\n",
    "- 示例 2：输入：s = \"a\"输出：[[\"a\"]]\n",
    " \n",
    "提示：1 <= s.length <= 16，s 仅由小写英文字母组成"
   ]
  },
  {
   "cell_type": "code",
   "execution_count": null,
   "metadata": {},
   "outputs": [],
   "source": [
    "class Solution:\n",
    "    def partition(self, s: str) -> List[List[str]]:\n",
    "        @lru_cache\n",
    "        def judge(s):\n",
    "            return s == s[::-1]\n",
    "\n",
    "        results = []\n",
    "        result = []\n",
    "\n",
    "        def dfs(remind):\n",
    "            # 只传入一个指针可以节省内存\n",
    "            if remind == '':\n",
    "                results.append(result[:])\n",
    "\n",
    "            for i in range(len(remind)):\n",
    "                if judge(remind[:i + 1]):\n",
    "                    result.append(remind[:i + 1])\n",
    "                    dfs(remind[i + 1:])\n",
    "                    result.pop()\n",
    "\n",
    "        dfs(s)\n",
    "        return results"
   ]
  },
  {
   "cell_type": "markdown",
   "metadata": {},
   "source": [
    "### 132. 分割回文串 II (Palindrome Partitioning II)\n",
    "给你一个字符串 s，请你将 s 分割成一些子串，使每个子串都是回文。\n",
    "\n",
    "返回符合要求的 最少分割次数 。\n",
    "\n",
    "- 示例 1：输入：s = \"aab\"输出：1解释：只需一次分割就可将 s 分割成 [\"aa\",\"b\"] 这样两个回文子串。\n",
    "- 示例 2：输入：s = \"a\"输出：0\n",
    "- 示例 3：输入：s = \"ab\"输出：1\n",
    " \n",
    "\n",
    "提示：1 <= s.length <= 2000，s 仅由小写英文字母组成"
   ]
  },
  {
   "cell_type": "code",
   "execution_count": null,
   "metadata": {},
   "outputs": [],
   "source": [
    "class Solution:\n",
    "    def minCut(self, s: str) -> int:\n",
    "        n = len(s)\n",
    "        dp = [[True] * n for _ in range(n)]\n",
    "\n",
    "        for i in range(n - 1, -1, -1):\n",
    "            for j in range(i + 1, n):\n",
    "                if s[i] != s[j]:\n",
    "                    dp[i][j] = False\n",
    "                else:\n",
    "                    if j - i > 2:\n",
    "                        dp[i][j] = dp[i + 1][j - 1]\n",
    "\n",
    "        f = [float(\"inf\")] * n\n",
    "        for i in range(n):\n",
    "            if dp[0][i]:\n",
    "                f[i] = 0\n",
    "            else:\n",
    "                for j in range(i):\n",
    "                    if dp[j + 1][i]:\n",
    "                        f[i] = min(f[i], f[j] + 1)\n",
    "        \n",
    "        return f[n - 1]\n",
    "\n",
    "\n",
    "        "
   ]
  },
  {
   "cell_type": "markdown",
   "metadata": {},
   "source": [
    "### 139. 单词拆分\n",
    "给你一个字符串 s 和一个字符串列表 wordDict 作为字典。请你判断是否可以利用字典中出现的单词拼接出 s 。\n",
    "\n",
    "注意：不要求字典中出现的单词全部都使用，并且字典中的单词可以重复使用。\n",
    "\n",
    " \n",
    "\n",
    "示例 1：\n",
    "\n",
    "输入: s = \"leetcode\", wordDict = [\"leet\", \"code\"]\n",
    "输出: true\n",
    "解释: 返回 true 因为 \"leetcode\" 可以由 \"leet\" 和 \"code\" 拼接成。\n",
    "示例 2：\n",
    "\n",
    "输入: s = \"applepenapple\", wordDict = [\"apple\", \"pen\"]\n",
    "输出: true\n",
    "解释: 返回 true 因为 \"applepenapple\" 可以由 \"apple\" \"pen\" \"apple\" 拼接成。\n",
    "     注意，你可以重复使用字典中的单词。\n",
    "示例 3：\n",
    "\n",
    "输入: s = \"catsandog\", wordDict = [\"cats\", \"dog\", \"sand\", \"and\", \"cat\"]\n",
    "输出: false\n",
    " \n",
    "\n",
    "提示：\n",
    "\n",
    "1 <= s.length <= 300\n",
    "1 <= wordDict.length <= 1000\n",
    "1 <= wordDict[i].length <= 20\n",
    "s 和 wordDict[i] 仅有小写英文字母组成\n",
    "wordDict 中的所有字符串 互不相同\n"
   ]
  },
  {
   "cell_type": "code",
   "execution_count": 4,
   "metadata": {},
   "outputs": [
    {
     "data": {
      "text/plain": "False"
     },
     "execution_count": 4,
     "metadata": {},
     "output_type": "execute_result"
    }
   ],
   "source": [
    "class Solution:\n",
    "    def wordBreak(self, s: str, wordDict) -> bool:\n",
    "        wordDict = set(wordDict)\n",
    "        dp = [False] * (len(s) + 1)\n",
    "        dp[0] = True\n",
    "        for i in range(1, len(s) + 1):\n",
    "            for j in range(0, i):\n",
    "                if dp[j] == True:\n",
    "                    if s[j:i] in wordDict:\n",
    "                        dp[i] = True\n",
    "                        break\n",
    "        \n",
    "        return dp[-1]\n",
    "\n",
    "s = Solution()\n",
    "s.wordBreak(s = \"catsandog\", wordDict = [\"cats\", \"dog\", \"sand\", \"and\", \"cat\"])\n"
   ]
  },
  {
   "cell_type": "markdown",
   "metadata": {},
   "source": [
    "### 140. 单词拆分 II\n",
    "给定一个字符串 s 和一个字符串字典 wordDict ，在字符串 s 中增加空格来构建一个句子，使得句子中所有的单词都在词典中。以任意顺序 返回所有这些可能的句子。\n",
    "\n",
    "注意：词典中的同一个单词可能在分段中被重复使用多次。\n",
    "\n",
    " \n",
    "\n",
    "示例 1：\n",
    "\n",
    "输入:s = \"catsanddog\", wordDict = [\"cat\",\"cats\",\"and\",\"sand\",\"dog\"]\n",
    "输出:[\"cats and dog\",\"cat sand dog\"]\n",
    "示例 2：\n",
    "\n",
    "输入:s = \"pineapplepenapple\", wordDict = [\"apple\",\"pen\",\"applepen\",\"pine\",\"pineapple\"]\n",
    "输出:[\"pine apple pen apple\",\"pineapple pen apple\",\"pine applepen apple\"]\n",
    "解释: 注意你可以重复使用字典中的单词。\n",
    "示例 3：\n",
    "\n",
    "输入:s = \"catsandog\", wordDict = [\"cats\",\"dog\",\"sand\",\"and\",\"cat\"]\n",
    "输出:[]\n",
    " \n",
    "\n",
    "提示：\n",
    "\n",
    "1 <= s.length <= 20\n",
    "1 <= wordDict.length <= 1000\n",
    "1 <= wordDict[i].length <= 10\n",
    "s 和 wordDict[i] 仅有小写英文字母组成\n",
    "wordDict 中所有字符串都 不同\n"
   ]
  },
  {
   "cell_type": "code",
   "execution_count": 11,
   "metadata": {},
   "outputs": [
    {
     "name": "stdout",
     "output_type": "stream",
     "text": [
      "['pine applepen apple', 'pineapple pen apple', 'pine apple pen apple']\n"
     ]
    },
    {
     "data": {
      "text/plain": "True"
     },
     "execution_count": 11,
     "metadata": {},
     "output_type": "execute_result"
    }
   ],
   "source": [
    "class Solution:\n",
    "    def wordBreak(self, s: str, wordDict) -> bool:\n",
    "        dic = {0:['']}\n",
    "        wordDict = set(wordDict)\n",
    "        dp = [False] * (len(s) + 1)\n",
    "        dp[0] = True\n",
    "        for i in range(1, len(s) + 1):\n",
    "            tmp = []\n",
    "            for j in range(0, i):\n",
    "                if dp[j] == True and s[j:i] in wordDict:\n",
    "                    for result in dic[j]:\n",
    "                        if result:\n",
    "                            tmp.append(result + ' ' + s[j:i])\n",
    "                        else:\n",
    "                            tmp.append(s[j:i])\n",
    "                    dic[i] = tmp\n",
    "                    dp[i] = True\n",
    "        \n",
    "        return dic(len(s)) if len(s) in dic else []\n",
    "        \n",
    "        \n",
    "\n",
    "s = Solution()\n",
    "s.wordBreak(s = \"pineapplepenapple\", wordDict = [\"apple\",\"pen\",\"applepen\",\"pine\",\"pineapple\"])"
   ]
  }
 ],
 "metadata": {
  "kernelspec": {
   "display_name": "Python 3 (ipykernel)",
   "language": "python",
   "name": "python3"
  },
  "language_info": {
   "codemirror_mode": {
    "name": "ipython",
    "version": 3
   },
   "file_extension": ".py",
   "mimetype": "text/x-python",
   "name": "python",
   "nbconvert_exporter": "python",
   "pygments_lexer": "ipython3",
   "version": "3.9.5"
  },
  "orig_nbformat": 4,
  "vscode": {
   "interpreter": {
    "hash": "1aec40e0cc8dcd72ae861723d928da7f867ad57df585952e683e938264a3f0b6"
   }
  }
 },
 "nbformat": 4,
 "nbformat_minor": 2
}