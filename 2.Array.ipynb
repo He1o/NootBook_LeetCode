{
 "cells": [
  {
   "cell_type": "markdown",
   "metadata": {},
   "source": [
    "## 快慢指针"
   ]
  },
  {
   "cell_type": "markdown",
   "metadata": {},
   "source": [
    "### 121. 买卖股票的最佳时机 (Best Time to Buy and Sell Stock)\n",
    "给定一个数组 prices ，它的第 i 个元素 prices[i] 表示一支给定股票第 i 天的价格。\n",
    "\n",
    "你只能选择 某一天 买入这只股票，并选择在 未来的某一个不同的日子 卖出该股票。设计一个算法来计算你所能获取的最大利润 (profit)。\n",
    "\n",
    "返回你可以从这笔交易中获取的最大利润。如果你不能获取任何利润，返回 0 。\n",
    "\n",
    "- 示例 1：输入：[7,1,5,3,6,4] 输出：5\n",
    "- 示例 2：输入：prices = [7,6,4,3,1] 输出：0解释：在这种情况下, 没有交易完成, 所以最大利润为 0。"
   ]
  },
  {
   "cell_type": "code",
   "execution_count": null,
   "metadata": {},
   "outputs": [],
   "source": [
    "class Solution:\n",
    "    def maxProfit(self, prices: List[int]) -> int:\n",
    "        left = 0\n",
    "        result = 0\n",
    "        for i in range(len(prices)):\n",
    "            result = max(result, prices[i] - prices[left])\n",
    "            if prices[i] < prices[left]:\n",
    "                left = i\n",
    "        return result"
   ]
  },
  {
   "cell_type": "markdown",
   "metadata": {},
   "source": [
    "### 137. 只出现一次的数字 II\n",
    "给你一个整数数组 nums ，除某个元素仅出现 一次 外，其余每个元素都恰出现 三次 。请你找出并返回那个只出现了一次的元素。\n",
    "\n",
    " \n",
    "\n",
    "示例 1：\n",
    "\n",
    "输入：nums = [2,2,3,2]\n",
    "输出：3\n",
    "示例 2：\n",
    "\n",
    "输入：nums = [0,1,0,1,0,1,99]\n",
    "输出：99\n",
    " \n",
    "\n",
    "提示：\n",
    "\n",
    "1 <= nums.length <= 3 * 104\n",
    "-231 <= nums[i] <= 231 - 1\n",
    "nums 中，除某个元素仅出现 一次 外，其余每个元素都恰出现 三次\n",
    " \n",
    "\n",
    "进阶：你的算法应该具有线性时间复杂度。 你可以不使用额外空间来实现吗？"
   ]
  },
  {
   "cell_type": "code",
   "execution_count": null,
   "metadata": {},
   "outputs": [],
   "source": [
    "class Solution:\n",
    "    def singleNumber(self, nums: List[int]) -> int:\n",
    "        return (sum(set(nums)) * 3 - sum(nums)) // 2"
   ]
  }
 ],
 "metadata": {
  "language_info": {
   "name": "python"
  },
  "orig_nbformat": 4
 },
 "nbformat": 4,
 "nbformat_minor": 2
}
