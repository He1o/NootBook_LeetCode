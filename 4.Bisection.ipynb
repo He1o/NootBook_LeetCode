{
 "cells": [
  {
   "cell_type": "markdown",
   "metadata": {},
   "source": [
    "# 二分搜索\n",
    "\n",
    "\n",
    "\n",
    "#### 1. Str \n",
    "\n",
    "#### 2. List \n",
    "-  [LeetCode](https://leetcode.cn/problems/median-of-two-sorted-arrays/)  [| 4. 寻找两个正序数组的中位数](#4) \n",
    "\n",
    "#### 3. Linked \n",
    "-  [LeetCode](https://leetcode.cn/problems/merge-k-sorted-lists/)  [| 23. 合并K个升序链表](#23) \n",
    "\n",
    "#### 4. Tree \n",
    "\n",
    "#### 5. Graph "
   ]
  },
  {
   "cell_type": "markdown",
   "metadata": {},
   "source": [
    "### 4. <span id = \"4\">寻找两个正序数组的中位数<span>\n",
    "\n",
    "两个有序数组，寻找它们的中位数\n",
    "\n",
    "1. 寻找第 k 大的数，每次最多能剔除的是 k//2 个数字，因此每个数组中应该判断的索引位置 pos 是 i + k//2 - 1，更新 k 只需要 k - k//2\n",
    "2. 当 pos 超过数组长度，则取最后一个元素 pos = min(pos, n - 1)，这时候更新 k 就不能用k - k//2，因此更新k最好的方式就是用 k - (pos - i + 1)\n",
    "3. 可以剔除较小的 k//2 个数字，更新 i = pos + 1\n",
    "4. 当 i 超过数组长度， 返回另一数组第 k 小元素\n",
    "5. 当 k 为1，返回两个数组第一个元素较小的"
   ]
  },
  {
   "cell_type": "code",
   "execution_count": null,
   "metadata": {},
   "outputs": [],
   "source": [
    "class Solution:\n",
    "    def findMedianSortedArrays(self, nums1: List[int], nums2: List[int]) -> float:\n",
    "        m, n = len(nums1), len(nums2)\n",
    "        def getKthElement(k):\n",
    "            index1 = index2 = 0\n",
    "\n",
    "            while True:\n",
    "                if index1 >= m:\n",
    "                    return nums2[index2 + k - 1]\n",
    "                if index2 >= n:\n",
    "                    return nums1[index1 + k - 1]\n",
    "                if k == 1:\n",
    "                    return min(nums1[index1], nums2[index2])\n",
    "\n",
    "                \n",
    "                mid1 = min(index1 + k // 2 - 1, m - 1)\n",
    "                mid2 = min(index2 + k // 2 - 1, n - 1)\n",
    "                if nums1[mid1] < nums2[mid2]:\n",
    "                    k = k - (mid1 - index1 + 1)\n",
    "                    index1 = mid1 + 1\n",
    "                else:\n",
    "                    k = k - (mid2 - index2 + 1)\n",
    "                    index2 = mid2 + 1\n",
    "        if (m + n) % 2 == 0:\n",
    "            return (getKthElement((m + n) // 2) + getKthElement((m + n) // 2 + 1)) / 2\n",
    "        else:\n",
    "            return getKthElement((m + n) // 2 + 1)"
   ]
  },
  {
   "cell_type": "markdown",
   "metadata": {},
   "source": [
    "### 23. <span id = \"23\">合并K个升序链表<span>\n",
    "\n",
    "链表长n，共有k个链表\n",
    "\n",
    "常规思路是最小的头结点，时间复杂度是O(k)，总时间为O(kn*k)\n",
    "\n",
    "通过二分归并可以复杂度O(kn*logk)"
   ]
  },
  {
   "cell_type": "code",
   "execution_count": null,
   "metadata": {},
   "outputs": [],
   "source": [
    "class Solution:\n",
    "    def mergeKLists(self, lists: List[Optional[ListNode]]) -> Optional[ListNode]:\n",
    "        if not lists:\n",
    "            return None\n",
    "        \n",
    "        def mergeTwo(list1, list2):\n",
    "            head = dummy = ListNode()\n",
    "            while list1 and list2:\n",
    "                if list1.val < list2.val:\n",
    "                    head.next = list1\n",
    "                    list1 = list1.next\n",
    "                else:\n",
    "                    head.next = list2\n",
    "                    list2 = list2.next\n",
    "                head = head.next\n",
    "            head.next = list1 if list1 else list2\n",
    "            return dummy.next\n",
    "\n",
    "\n",
    "        def merge(i, j):\n",
    "            if i == j:\n",
    "                return lists[i]\n",
    "            mid = (i + j) // 2\n",
    "            l = merge(i, mid)\n",
    "            r = merge(mid + 1, j)\n",
    "            return mergeTwo(l, r)\n",
    "\n",
    "        return merge(0, len(lists) - 1)\n"
   ]
  }
 ],
 "metadata": {
  "kernelspec": {
   "display_name": "Python 3.9.6 64-bit",
   "language": "python",
   "name": "python3"
  },
  "language_info": {
   "name": "python",
   "version": "3.9.6"
  },
  "orig_nbformat": 4,
  "vscode": {
   "interpreter": {
    "hash": "1aec40e0cc8dcd72ae861723d928da7f867ad57df585952e683e938264a3f0b6"
   }
  }
 },
 "nbformat": 4,
 "nbformat_minor": 2
}
