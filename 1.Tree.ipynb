{
 "cells": [
  {
   "cell_type": "markdown",
   "id": "a1c4e17a",
   "metadata": {},
   "source": [
    "# 3. 树（Tree）\n",
    "\n",
    "## 1. 定义\n",
    "作为数据结构的树和现实世界中的树有很多共同之处，二者皆有根、枝、叶。不同之处在于，前者的根在顶部，而叶在底部。总的来说，树结构是一个有层次有嵌套的数据结构。以下对树结构进行定义：\n",
    "\n",
    "- **节点**　节点是树的基础部分，也是组成单元。每棵树包含一个或多个节点，通常节点带有附加信息，称为“有效载荷”。\n",
    "- **边**　边也是树基础部分。两个节点之间通过一条边相连，表示它们之间存在关系。除了根节点之外，其他每个节点都仅有一条入边，出边则可能有多条。\n",
    "- **根结点**　根结点是树唯一没有入边的节点。\n",
    "- **路径**　路径就是由边连接的有序节点列表。\n",
    "- **子节点**　一个节点通过出边与子节点相连。\n",
    "- **父节点**　一个节点是其所有子节点的父节点。\n",
    "- **兄弟节点**　具有同一父节点的节点互称为兄弟节点。\n",
    "- **子树**　一个父节点及其所有后代的节点和边构成一颗子树。\n",
    "- **叶子结点**　叶子结点是没有子节点的节点。\n",
    "- **层数**　从根节点到指定节点的唯一路径长度就是该节点的层数，根节点的层数为0。\n",
    "- **高度**　树的高度是其中节点层数的最大值。\n",
    "\n",
    "**树**　树由节点即连接节点的边构成。具有如下属性:\n",
    "1. 树只有一个根节点；\n",
    "2. 除根节点外，其他每个节点都与其唯一的父节点相连；\n",
    "3. 从根节点到其他每个节点都有且仅有一条路径；\n",
    "4. 如果每个节点最多有两个子节点，这样的树称为**二叉树**\n"
   ]
  },
  {
   "cell_type": "code",
   "execution_count": null,
   "id": "c6b9cd29",
   "metadata": {},
   "outputs": [],
   "source": [
    "class BinaryTree():\n",
    "    def __init__(self, key):\n",
    "        self.key = key\n",
    "        self.leftChild = None\n",
    "        self.rightChild = None\n",
    "        \n",
    "    def insertLeft(self, key):\n",
    "        # 这是一颗普通的树，任何地方节点都可以插入\n",
    "        if self.leftChild == None:\n",
    "            self.leftChild = BinaryTree(key)\n",
    "        else:\n",
    "            tmp = BinaryTree(key)\n",
    "            tmp.leftChild = self.leftChild\n",
    "            self.leftChild = tmp\n",
    "        \n",
    "    def insertRight(self, key):\n",
    "        if self.rightChild == None:\n",
    "            self.rightChild = BinaryTree(key)\n",
    "        else:\n",
    "            tmp = BinaryTree(key)\n",
    "            tmp.rightChild = self.rightChild\n",
    "            self.rightChild = tmp        \n",
    "        \n",
    "    def getRootVal(self):\n",
    "        return self.key\n",
    "        \n",
    "        \n",
    "        \n",
    "        "
   ]
  }
 ],
 "metadata": {
  "kernelspec": {
   "display_name": "Python 3 (ipykernel)",
   "language": "python",
   "name": "python3"
  },
  "language_info": {
   "codemirror_mode": {
    "name": "ipython",
    "version": 3
   },
   "file_extension": ".py",
   "mimetype": "text/x-python",
   "name": "python",
   "nbconvert_exporter": "python",
   "pygments_lexer": "ipython3",
   "version": "3.9.5"
  }
 },
 "nbformat": 4,
 "nbformat_minor": 5
}
