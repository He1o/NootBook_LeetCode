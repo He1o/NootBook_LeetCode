{
 "cells": [
  {
   "cell_type": "markdown",
   "metadata": {},
   "source": [
    "# 栈"
   ]
  },
  {
   "cell_type": "markdown",
   "metadata": {},
   "source": [
    "### 150. 逆波兰表达式求值\n",
    "根据 逆波兰表示法，求表达式的值。\n",
    "\n",
    "有效的算符包括 +、-、*、/ 。每个运算对象可以是整数，也可以是另一个逆波兰表达式。\n",
    "\n",
    "注意 两个整数之间的除法只保留整数部分。\n",
    "\n",
    "可以保证给定的逆波兰表达式总是有效的。换句话说，表达式总会得出有效数值且不存在除数为 0 的情况。\n",
    "\n",
    " \n",
    "\n",
    "示例 1：\n",
    "\n",
    "输入：tokens = [\"2\",\"1\",\"+\",\"3\",\"*\"]\n",
    "输出：9\n",
    "解释：该算式转化为常见的中缀算术表达式为：((2 + 1) * 3) = 9\n",
    "示例 2：\n",
    "\n",
    "输入：tokens = [\"4\",\"13\",\"5\",\"/\",\"+\"]\n",
    "输出：6\n",
    "解释：该算式转化为常见的中缀算术表达式为：(4 + (13 / 5)) = 6\n",
    "示例 3：\n",
    "\n",
    "输入：tokens = [\"10\",\"6\",\"9\",\"3\",\"+\",\"-11\",\"*\",\"/\",\"*\",\"17\",\"+\",\"5\",\"+\"]\n",
    "输出：22\n",
    "解释：该算式转化为常见的中缀算术表达式为：\n",
    "  ((10 * (6 / ((9 + 3) * -11))) + 17) + 5\n",
    "= ((10 * (6 / (12 * -11))) + 17) + 5\n",
    "= ((10 * (6 / -132)) + 17) + 5\n",
    "= ((10 * 0) + 17) + 5\n",
    "= (0 + 17) + 5\n",
    "= 17 + 5\n",
    "= 22\n",
    " \n",
    "\n",
    "提示：\n",
    "\n",
    "1 <= tokens.length <= 104\n",
    "tokens[i] 是一个算符（\"+\"、\"-\"、\"*\" 或 \"/\"），或是在范围 [-200, 200] 内的一个整数\n",
    " \n",
    "\n",
    "逆波兰表达式：\n",
    "\n",
    "逆波兰表达式是一种后缀表达式，所谓后缀就是指算符写在后面。\n",
    "\n",
    "平常使用的算式则是一种中缀表达式，如 ( 1 + 2 ) * ( 3 + 4 ) 。\n",
    "该算式的逆波兰表达式写法为 ( ( 1 2 + ) ( 3 4 + ) * ) 。\n",
    "逆波兰表达式主要有以下两个优点：\n",
    "\n",
    "去掉括号后表达式无歧义，上式即便写成 1 2 + 3 4 + * 也可以依据次序计算出正确结果。\n",
    "适合用栈操作运算：遇到数字则入栈；遇到算符则取出栈顶两个数字进行计算，并将结果压入栈中"
   ]
  },
  {
   "cell_type": "code",
   "execution_count": null,
   "metadata": {},
   "outputs": [],
   "source": [
    "class Solution:\n",
    "    def evalRPN(self, tokens: List[str]) -> int:\n",
    "\n",
    "        stack = []\n",
    "        for ch in tokens:\n",
    "            if ch not in ['+', '-', '*', '/']:\n",
    "                stack.append(int(ch))\n",
    "            else:\n",
    "                b = stack.pop()\n",
    "                a = stack.pop()\n",
    "                if ch == '+':\n",
    "                    stack.append(a + b)\n",
    "                elif ch == '-':\n",
    "                    stack.append(a - b)\n",
    "                elif ch == '*':\n",
    "                    stack.append(a * b)\n",
    "                else:\n",
    "                    stack.append(int(a / b))\n",
    "        return stack[-1]"
   ]
  },
  {
   "cell_type": "markdown",
   "metadata": {},
   "source": []
  }
 ],
 "metadata": {
  "kernelspec": {
   "display_name": "Python 3 (ipykernel)",
   "language": "python",
   "name": "python3"
  },
  "language_info": {
   "name": "python",
   "nbconvert_exporter": "python",
   "version": "3.9.5-final"
  },
  "orig_nbformat": 2
 },
 "nbformat": 4,
 "nbformat_minor": 2
}