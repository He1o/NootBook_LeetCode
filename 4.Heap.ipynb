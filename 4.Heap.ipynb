{
 "cells": [
  {
   "cell_type": "markdown",
   "metadata": {},
   "source": [
    "# 3. 堆（Heap）\n",
    "\n",
    "## 1. 定义\n",
    "堆实际上是优先级队列的一种实现。\n",
    "\n",
    "优先级队列从头部移除元素，元素的逻辑顺序是由优先级决定的。优先级最高的元素排在前面，优先级最低的元素排在后面。利用列表和排序函数是可以实现优先级队列的，但列表的插入速度是 $O(n)$，排序操作是 $O(n\\log n)$。通过二叉堆实现优先级队列，可以将入队和出队的时间复杂度达到 $O(\\log n)$。\n",
    "\n",
    "所以如果需要维护一个有序列表，首先想到的就应该是二叉堆。根据有序是升序还是降序可以将二叉堆分为最小堆和最大堆。\n",
    "\n",
    "二叉堆的结构类似于二叉树，同样由节点和边组成，每个父节点最多具有两个子节点，唯一不同的地方在于二叉堆具有有序性。最小的有序性体现在，父节点的值不会大于它的子节点的值。\n",
    "\n",
    "为了保证二叉堆的对数性能，就要保持它的平衡，即其根节点左右子树节点的数量大致相等。通过完全二叉树即可实现树的平衡，完全二叉树除了最底层，其他每一层的节点都是满的，在最底层中，从左往右依次填充节点。\n",
    "\n",
    "完全二叉树无需使用“节点与引用”的表示方法。由于树是完全的，可以通过一个列表表示出来。对于在列表中处于位置 p 的节点来说，它的左子节点正好处于位置 2p；同理，右子节点处于位置 2p+1。若要找到树中任意节点的父节点，只需使用 Python 的整数除法即可。给定列表中位置 n 处的节点，其父节点的位置就是 n // 2。\n",
    "\n",
    "最小堆的插入过程中需要保证其结构性质。元素加入列表最简单的方法就是将元素追加到列表的末尾，然后通过比较新元素和其父元素的大小，如果新元素小于其父元素，就将两者交换。\n",
    "\n"
   ]
  },
  {
   "cell_type": "code",
   "execution_count": null,
   "metadata": {},
   "outputs": [],
   "source": [
    "class BinaryHeap():\n",
    "    def __init__(self, key):\n",
    "        self.heapList = [None]\n",
    "        self.currentSize = 0\n",
    "\n",
    "    def insert(self,k):\n",
    "        self.heapList.append(k)\n",
    "        self.currentSize += 1\n",
    "\n",
    "        \n",
    "        \n",
    "\n",
    "        \n",
    "        \n",
    "        \n",
    "        "
   ]
  }
 ],
 "metadata": {
  "kernelspec": {
   "display_name": "Python 3 (ipykernel)",
   "language": "python",
   "name": "python3"
  },
  "language_info": {
   "codemirror_mode": {
    "name": "ipython",
    "version": 3
   },
   "file_extension": ".py",
   "mimetype": "text/x-python",
   "name": "python",
   "nbconvert_exporter": "python",
   "pygments_lexer": "ipython3",
   "version": "3.9.5-final"
  }
 },
 "nbformat": 4,
 "nbformat_minor": 5
}