{
 "cells": [
  {
   "cell_type": "markdown",
   "metadata": {},
   "source": [
    "# 动态规划\n",
    "\n",
    "\n",
    "\n",
    "#### 1. Str \n",
    "-  [LeetCode](https://leetcode.cn/problems/longest-palindromic-substring/)  [| 5. 最长回文子串](#5) \n",
    "-  [LeetCode](https://leetcode.cn/problems/regular-expression-matching/)  [| 10. 正则表达式匹配](#10) \n",
    "\n",
    "#### 2. List \n",
    "\n",
    "#### 3. Linked \n",
    "\n",
    "#### 4. Tree \n",
    "\n",
    "#### 5. Graph \n",
    "\n",
    "#### 6. Num\n",
    "\n",
    "#### 7. Combination\n",
    "-  [LeetCode](https://leetcode.cn/problems/generate-parentheses/)  [| 22. 括号生成](#22) "
   ]
  },
  {
   "cell_type": "markdown",
   "metadata": {},
   "source": [
    "### 5. <span id = \"5\">最长回文子串<span>\n",
    "\n",
    "给你一个字符串 s，找到 s 中最长的回文子串。\n",
    "\n",
    "1. 定义状态，$dp[i][j]$ 表示从 $i$ 到 $j$ 是否是回文子串\n",
    "2. 状态转移方程 $dp[i][j] = (s[i] == s[j]) \\& dp[i + 1][j - 1]$\n",
    "3. 初始条件 $dp[i][i] = True$\n",
    "\n",
    "4. $i, j$ 无法依次遍历，对 L 进行遍历\n",
    "5. 时间复杂度和中心扩展法都是 $n^2$\n"
   ]
  },
  {
   "cell_type": "code",
   "execution_count": null,
   "metadata": {},
   "outputs": [],
   "source": [
    "class Solution:\n",
    "    def longestPalindrome(self, s: str) -> str:\n",
    "        if not s:\n",
    "            return ''\n",
    "        n = len(s)\n",
    "        dp = [[False] * n for _ in range(n)]\n",
    "\n",
    "        for i in range(n):\n",
    "            dp[i][i] = True\n",
    "        \n",
    "        maxLen = 1\n",
    "        begin = 0\n",
    "        for L in range(2, n + 1):\n",
    "            for i in range(n):\n",
    "                j = i + L - 1\n",
    "\n",
    "                if j >= n:\n",
    "                    break\n",
    "                \n",
    "                if L == 2:\n",
    "                    dp[i][j] = (s[i] == s[j])\n",
    "                else:\n",
    "                    dp[i][j] = (s[i] == s[j]) and dp[i + 1][j - 1]\n",
    "\n",
    "                if dp[i][j] and L > maxLen:\n",
    "                    maxLen = L\n",
    "                    result = i\n",
    "        return s[begin:begin + 1]"
   ]
  },
  {
   "cell_type": "markdown",
   "metadata": {},
   "source": [
    "### 10. <span id = \"5\">正则表达式匹配<span>\n",
    "\n",
    "'.' 匹配任意单个字符，'*' 匹配零个或多个前面的元素（零次的话前面的元素也不起作用）\n",
    "\n",
    "1. 状态 $dp[i][j]$ 表示 p 的前 $i$ 与 s 的前 $j$ 个元素是否匹配\n",
    "2. 如果 $p[i] == .$，$dp[i][j]=dp[i-1][j-1]$\n",
    "3. 如果 $p[i] == *$，\n",
    "   - 匹配零次，$dp[i][j]=dp[i][j-2]$\n",
    "   - 匹配一次或多次 $dp[i][j]=dp[i-1][j]$ #直观上其实可以理解，就是当前j-1与i相等的时候，考虑j与i-1是否匹配，就是因为*可以重复匹配，只需要最后一个匹配即可\n",
    "4. 当 $p[i] == *$ 时匹配一次或多次的前提，是j-1与i的字符相等或者j-1是."
   ]
  },
  {
   "cell_type": "code",
   "execution_count": null,
   "metadata": {},
   "outputs": [],
   "source": [
    "class Solution:\n",
    "    def isMatch(self, s: str, p: str) -> bool:\n",
    "        m, n = len(s), len(p)\n",
    "        dp = [[False] * (n + 1) for _ in range(m + 1)]\n",
    "\n",
    "        dp[0][0] = True\n",
    "        for i in range(m + 1):\n",
    "            for j in range(1, n + 1):\n",
    "                if p[j - 1] == '.':\n",
    "                    dp[i][j] = dp[i - 1][j - 1]\n",
    "                elif p[j - 1] == '*':\n",
    "                    dp[i][j] = dp[i][j - 2] or ((s[i - 1] == p[j - 2] or p[j - 2] == '.') and dp[i - 1][j])\n",
    "                else:\n",
    "                    dp[i][j] = dp[i - 1][j - 1] and s[i - 1] == p[j - 1]\n",
    "        return dp[-1][-1]"
   ]
  },
  {
   "cell_type": "markdown",
   "metadata": {},
   "source": [
    "### 22. <span id = \"22\">括号生成<span>\n",
    "\n"
   ]
  },
  {
   "cell_type": "code",
   "execution_count": null,
   "metadata": {},
   "outputs": [],
   "source": [
    "class Solution:\n",
    "    def generateParenthesis(self, n: int) -> List[str]:\n",
    "        dp = [['']]\n",
    "\n",
    "        for i in range(1, n + 1):\n",
    "            result = []\n",
    "            for j in range(i):\n",
    "                result.extend(['({}){}'.format(l, r) for l in dp[j] for r in dp[i - 1 - j]])\n",
    "            dp.append(result)\n",
    "        return dp[-1]\n",
    "\n",
    "class Solution:\n",
    "    def generateParenthesis(self, n: int) -> List[str]:\n",
    "        dp = [['']]\n",
    "\n",
    "        for i in range(1, n + 1):\n",
    "            result = []\n",
    "            for j in range(i):\n",
    "                for l in dp[j]:\n",
    "                    for r in dp[i - 1 - j]:\n",
    "                        result.append('({}){}'.format(l, r))\n",
    "            dp.append(result)\n",
    "        return dp[-1]"
   ]
  }
 ],
 "metadata": {
  "kernelspec": {
   "display_name": "Python 3.9.6 64-bit",
   "language": "python",
   "name": "python3"
  },
  "language_info": {
   "codemirror_mode": {
    "name": "ipython",
    "version": 3
   },
   "file_extension": ".py",
   "mimetype": "text/x-python",
   "name": "python",
   "nbconvert_exporter": "python",
   "pygments_lexer": "ipython3",
   "version": "3.9.6"
  },
  "orig_nbformat": 4,
  "vscode": {
   "interpreter": {
    "hash": "1aec40e0cc8dcd72ae861723d928da7f867ad57df585952e683e938264a3f0b6"
   }
  }
 },
 "nbformat": 4,
 "nbformat_minor": 2
}
