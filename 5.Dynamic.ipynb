{
 "cells": [
  {
   "cell_type": "markdown",
   "metadata": {},
   "source": [
    "# 5. 动态规划（Dynamic programming）"
   ]
  },
  {
   "cell_type": "markdown",
   "metadata": {},
   "source": [
    "### 97. 交错字符串 (Interleaving String)\n",
    "给定三个字符串 s1、s2、s3，请你帮忙验证 s3 是否是由 s1 和 s2 交错 组成的。\n",
    "\n",
    "两个字符串 s 和 t 交错 的定义与过程如下，其中每个字符串都会被分割成若干 非空 子字符串：\n",
    "\n",
    "s = s1 + s2 + ... + sn\n",
    "t = t1 + t2 + ... + tm\n",
    "|n - m| <= 1\n",
    "交错 是 s1 + t1 + s2 + t2 + s3 + t3 + ... 或者 t1 + s1 + t2 + s2 + t3 + s3 + ...\n",
    "注意：a + b 意味着字符串 a 和 b 连接。\n",
    "\n",
    "- 示例 1：输入：s1 = \"aabcc\", s2 = \"dbbca\", s3 = \"aadbbcbcac\" 输出：true\n",
    "- 示例 2：输入：s1 = \"aabcc\", s2 = \"dbbca\", s3 = \"aadbbbaccc\" 输出：false\n",
    "- 示例 3：输入：s1 = \"\", s2 = \"\", s3 = \"\" 输出：true\n",
    "\n",
    "提示：\n",
    "- 0 <= s1.length, s2.length <= 100\n",
    "- 0 <= s3.length <= 200\n",
    "- s1、s2、和 s3 都由小写英文字母组成\n",
    "\n",
    "进阶：您能否仅使用 O(s2.length) 额外的内存空间来解决它?\n"
   ]
  },
  {
   "cell_type": "code",
   "execution_count": 12,
   "metadata": {},
   "outputs": [
    {
     "data": {
      "text/plain": [
       "True"
      ]
     },
     "execution_count": 12,
     "metadata": {},
     "output_type": "execute_result"
    }
   ],
   "source": [
    "class Solution:\n",
    "    def isInterleave(self, s1: str, s2: str, s3: str) -> bool:\n",
    "        n, m, l = len(s1), len(s2), len(s3)\n",
    "        if l != n + m:\n",
    "            return False\n",
    "\n",
    "        dp = [[0 for _ in range(m + 1)] for _ in range(n + 1)]\n",
    "        dp[0][0] = 1\n",
    "        \n",
    "        for i in range(0, n):\n",
    "            if s1[i] == s3[i]:\n",
    "                dp[i + 1][0] = 1 \n",
    "            else:\n",
    "                break\n",
    "        for i in range(0, m):\n",
    "            if s2[i] == s3[i]:\n",
    "                dp[0][i + 1] = 1 \n",
    "            else:\n",
    "                break\n",
    "        for i in range(0, n):\n",
    "            for j in range(0, m):\n",
    "                tmp1, tmp2 = 0, 0\n",
    "                if s1[i] == s3[i + j + 1]:\n",
    "                    tmp1 = dp[i][j + 1]\n",
    "                if s2[j] == s3[i + j + 1]:\n",
    "                    tmp2 = dp[i + 1][j]\n",
    "                dp[i + 1][j + 1] = max(tmp1, tmp2)\n",
    "                \n",
    "        return True if dp[n][m] else False\n",
    "                \n",
    "s = Solution()\n",
    "s.isInterleave(\"aabcc\",\"dbbca\",\"aadbbcbcac\")                    \n",
    "\n",
    "# 用dp[i][j]表示，s1的前i个字符即s1[:i]与s2的前j个字符s2[:j]，可以构成s3的前i + j个字符即s3[:i + j]\n",
    "# dp[i + 1][j + 1] = dp[i][j + 1]\n",
    "# i 和 j 对应的是 s3 的 i + j + 1，因为索引是从0 开始的；当i相同时，看的是dp[i][j + 1]\n",
    "\n",
    "# 省略写法\n",
    "class Solution:\n",
    "    def isInterleave(self, s1: str, s2: str, s3: str) -> bool:\n",
    "        n1, n2, n3 = len(s1), len(s2), len(s3)\n",
    "        if n1 + n2 != n3:\n",
    "            return False\n",
    "        dp = [[False] * (n2 + 1) for _ in range(n1 + 1)]\n",
    "        dp[0][0] = True\n",
    "\n",
    "        for i in range(n1 + 1):\n",
    "            for j in range(n2 + 1):\n",
    "                # 当s1的第i个字符与s3的第i + j个字符相等时，进行转移\n",
    "                if i - 1 >= 0 and s1[i - 1] == s3[i + j - 1]:\n",
    "                    dp[i][j] |= dp[i - 1][j]\n",
    "                if j - 1 >= 0 and s2[j - 1] == s3[i + j - 1]:\n",
    "                    dp[i][j] |= dp[i][j - 1]\n",
    "        \n",
    "        return dp[n1][n2]"
   ]
  },
  {
   "cell_type": "markdown",
   "metadata": {},
   "source": []
  }
 ],
 "metadata": {
  "interpreter": {
   "hash": "1aec40e0cc8dcd72ae861723d928da7f867ad57df585952e683e938264a3f0b6"
  },
  "kernelspec": {
   "display_name": "Python 3.9.6 64-bit",
   "language": "python",
   "name": "python3"
  },
  "language_info": {
   "codemirror_mode": {
    "name": "ipython",
    "version": 3
   },
   "file_extension": ".py",
   "mimetype": "text/x-python",
   "name": "python",
   "nbconvert_exporter": "python",
   "pygments_lexer": "ipython3",
   "version": "3.9.6"
  }
 },
 "nbformat": 4,
 "nbformat_minor": 2
}
