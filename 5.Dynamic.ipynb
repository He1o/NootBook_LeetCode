{
 "cells": [
  {
   "cell_type": "markdown",
   "metadata": {},
   "source": [
    "# 5. 动态规划（Dynamic programming）"
   ]
  },
  {
   "cell_type": "markdown",
   "metadata": {},
   "source": [
    "### 97. 交错字符串\n",
    "给定三个字符串 s1、s2、s3，请你帮忙验证 s3 是否是由 s1 和 s2 交错 组成的。\n",
    "\n",
    "两个字符串 s 和 t 交错 的定义与过程如下，其中每个字符串都会被分割成若干 非空 子字符串：\n",
    "\n",
    "s = s1 + s2 + ... + sn\n",
    "t = t1 + t2 + ... + tm\n",
    "|n - m| <= 1\n",
    "交错 是 s1 + t1 + s2 + t2 + s3 + t3 + ... 或者 t1 + s1 + t2 + s2 + t3 + s3 + ...\n",
    "注意：a + b 意味着字符串 a 和 b 连接。\n",
    "\n",
    "- 示例 1：输入：s1 = \"aabcc\", s2 = \"dbbca\", s3 = \"aadbbcbcac\" 输出：true\n",
    "- 示例 2：输入：s1 = \"aabcc\", s2 = \"dbbca\", s3 = \"aadbbbaccc\" 输出：false\n",
    "- 示例 3：输入：s1 = \"\", s2 = \"\", s3 = \"\" 输出：true\n",
    "- \n",
    "\n",
    "提示：\n",
    "- 0 <= s1.length, s2.length <= 100\n",
    "- 0 <= s3.length <= 200\n",
    "- s1、s2、和 s3 都由小写英文字母组成\n",
    "\n",
    "进阶：您能否仅使用 O(s2.length) 额外的内存空间来解决它?\n"
   ]
  },
  {
   "cell_type": "code",
   "execution_count": null,
   "metadata": {},
   "outputs": [],
   "source": [
    "class Solution:\n",
    "    def isInterleave(self, s1: str, s2: str, s3: str) -> bool:\n",
    "        n, m, l = len(s1), len(s2), len(s3)\n",
    "        if l != n + m:\n",
    "            return False\n",
    "\n",
    "        dp = [[0] * (n + 1)] * (m + 1)\n",
    "        dp[0][0] = 1\n",
    "\n",
    "        for i in range(0, n):\n",
    "            if s1[i] == s3[i]:\n",
    "                dp[i + 1][0] = 1 \n",
    "            else:\n",
    "                break\n",
    "        print(dp)\n",
    "\n",
    "        for i in range(0, m):\n",
    "            if s2[i] == s3[i]:\n",
    "                dp[0][i + 1] = 1 \n",
    "            else:\n",
    "                break\n",
    "\n",
    "        for i in range(0, n):\n",
    "            for j in range(0, m):\n",
    "                tmp1, tmp2 = 0, 0\n",
    "                if s1[i] == s3[i + j + 1]:\n",
    "                    tmp1 = dp[i + 1][j]\n",
    "                if s2[j - 1] == s3[i + j + 1]:\n",
    "                    tmp2 = dp[i][j + 1]\n",
    "                dp[i + 1][j + 1] = max(tmp1, tmp2)\n",
    "\n",
    "        return dp[n][m]\n",
    "                \n",
    "s = Solution\n",
    "s.isInterleave(\"aabcc\",\"dbbca\",\"aadbbcbcac\")                    \n",
    "\n"
   ]
  },
  {
   "cell_type": "markdown",
   "metadata": {},
   "source": [
    "### 115. 不同的子序列\n",
    "给定一个字符串 s 和一个字符串 t ，计算在 s 的子序列中 t 出现的个数。\n",
    "\n",
    "字符串的一个 子序列 是指，通过删除一些（也可以不删除）字符且不干扰剩余字符相对位置所组成的新字符串。（例如，\"ACE\" 是 \"ABCDE\" 的一个子序列，而 \"AEC\" 不是）\n",
    "\n",
    "题目数据保证答案符合 32 位带符号整数范围。\n",
    "\n",
    "示例 1：输入：s = \"rabbbit\", t = \"rabbit\" 输出：3\n",
    "示例 2：输入：s = \"babgbag\", t = \"bag\" 输出：5\n",
    "解释：\n",
    "如下图所示, 有 5 种可以从 s 中得到 \"bag\" 的方案。 \n",
    "(ba)bgba(g)\n",
    "(ba)b(g)bag\n",
    "(b)abgb(ag)\n",
    "ba(b)gb(ag)\n",
    "babg(bag)\n",
    " \n",
    "提示：0 <= s.length, t.length <= 1000，s 和 t 由英文字母组成"
   ]
  },
  {
   "cell_type": "code",
   "execution_count": null,
   "metadata": {},
   "outputs": [],
   "source": [
    "class Solution:\n",
    "    def numDistinct(self, s: str, t: str) -> int:\n",
    "        m, n = len(s), len(t)\n",
    "        dp = [[0 for _ in range(m + 1)] for _ in range(n + 1)]\n",
    "        dp[0] = [1 for _ in range(m + 1)]\n",
    "\n",
    "        for i in range(n):\n",
    "            for j in range(m):\n",
    "                dp[i + 1][j + 1] = dp[i + 1][j]\n",
    "                if t[i] == s[j]:\n",
    "                    dp[i + 1][j + 1] += dp[i][j]\n",
    "        return dp[-1][-1]"
   ]
  }
 ],
 "metadata": {
  "kernelspec": {
   "display_name": "Python 3.9.5 64-bit",
   "metadata": {
    "interpreter": {
     "hash": "b8bdd4e700647ba2b08c59e5df8b7da1dcf50a218bcd4c1bcd9b3dc92e8788e5"
    }
   },
   "name": "python3"
  },
  "language_info": {
   "codemirror_mode": {
    "name": "ipython",
    "version": 3
   },
   "file_extension": ".py",
   "mimetype": "text/x-python",
   "name": "python",
   "nbconvert_exporter": "python",
   "pygments_lexer": "ipython3",
   "version": "3.9.5"
  },
  "orig_nbformat": 2
 },
 "nbformat": 4,
 "nbformat_minor": 2
}