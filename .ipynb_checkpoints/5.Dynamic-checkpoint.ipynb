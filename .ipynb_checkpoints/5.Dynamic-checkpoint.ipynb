{
 "cells": [
  {
   "cell_type": "markdown",
   "metadata": {},
   "source": [
    "# 5. 动态规划（Dynamic programming）"
   ]
  },
  {
   "cell_type": "markdown",
   "metadata": {},
   "source": [
    "### 97. 交错字符串\n",
    "给定三个字符串 s1、s2、s3，请你帮忙验证 s3 是否是由 s1 和 s2 交错 组成的。\n",
    "\n",
    "两个字符串 s 和 t 交错 的定义与过程如下，其中每个字符串都会被分割成若干 非空 子字符串：\n",
    "\n",
    "s = s1 + s2 + ... + sn\n",
    "t = t1 + t2 + ... + tm\n",
    "|n - m| <= 1\n",
    "交错 是 s1 + t1 + s2 + t2 + s3 + t3 + ... 或者 t1 + s1 + t2 + s2 + t3 + s3 + ...\n",
    "注意：a + b 意味着字符串 a 和 b 连接。\n",
    "\n",
    "- 示例 1：输入：s1 = \"aabcc\", s2 = \"dbbca\", s3 = \"aadbbcbcac\" 输出：true\n",
    "- 示例 2：输入：s1 = \"aabcc\", s2 = \"dbbca\", s3 = \"aadbbbaccc\" 输出：false\n",
    "- 示例 3：输入：s1 = \"\", s2 = \"\", s3 = \"\" 输出：true\n",
    "\n",
    "提示：\n",
    "- 0 <= s1.length, s2.length <= 100\n",
    "- 0 <= s3.length <= 200\n",
    "- s1、s2、和 s3 都由小写英文字母组成\n",
    "\n",
    "进阶：您能否仅使用 O(s2.length) 额外的内存空间来解决它?\n"
   ]
  },
  {
   "cell_type": "code",
   "execution_count": 11,
   "metadata": {},
   "outputs": [
    {
     "name": "stdout",
     "output_type": "stream",
     "text": [
      "[[1, 0, 0, 0, 0, 0], [1, 0, 0, 0, 0, 0], [1, 0, 0, 0, 0, 0], [0, 0, 0, 0, 0, 0], [0, 0, 0, 0, 0, 0], [0, 0, 0, 0, 0, 0]]\n"
     ]
    },
    {
     "data": {
      "text/plain": [
       "0"
      ]
     },
     "execution_count": 11,
     "metadata": {},
     "output_type": "execute_result"
    }
   ],
   "source": [
    "class Solution:\n",
    "    def isInterleave(self, s1: str, s2: str, s3: str) -> bool:\n",
    "        n, m, l = len(s1), len(s2), len(s3)\n",
    "        if l != n + m:\n",
    "            return False\n",
    "\n",
    "        dp = [[0 for _ in range(m + 1)] for _ in range(n + 1)]\n",
    "        dp[0][0] = 1\n",
    "        \n",
    "        for i in range(0, n):\n",
    "            if s1[i] == s3[i]:\n",
    "                dp[i + 1][0] = 1 \n",
    "            else:\n",
    "                break\n",
    "        for i in range(0, m):\n",
    "            if s2[i] == s3[i]:\n",
    "                dp[0][i + 1] = 1 \n",
    "            else:\n",
    "                break\n",
    "        print(dp)\n",
    "        for i in range(0, n):\n",
    "            for j in range(0, m):\n",
    "                tmp1, tmp2 = 0, 0\n",
    "                if s1[i] == s3[i + j + 1]:\n",
    "                    tmp1 = dp[i + 1][j]\n",
    "                if s2[j] == s3[i + j + 1]:\n",
    "                    tmp2 = dp[i][j + 1]\n",
    "                dp[i + 1][j + 1] = max(tmp1, tmp2)\n",
    "\n",
    "        return dp[n][m]\n",
    "                \n",
    "s = Solution()\n",
    "s.isInterleave(\"aabcc\",\"dbbca\",\"aadbbcbcac\")                    \n",
    "\n"
   ]
  },
  {
   "cell_type": "code",
   "execution_count": null,
   "metadata": {},
   "outputs": [],
   "source": []
  },
  {
   "cell_type": "code",
   "execution_count": null,
   "metadata": {},
   "outputs": [],
   "source": []
  }
 ],
 "metadata": {
  "kernelspec": {
   "display_name": "Python 3 (ipykernel)",
   "language": "python",
   "name": "python3"
  },
  "language_info": {
   "codemirror_mode": {
    "name": "ipython",
    "version": 3
   },
   "file_extension": ".py",
   "mimetype": "text/x-python",
   "name": "python",
   "nbconvert_exporter": "python",
   "pygments_lexer": "ipython3",
   "version": "3.9.5"
  }
 },
 "nbformat": 4,
 "nbformat_minor": 2
}
